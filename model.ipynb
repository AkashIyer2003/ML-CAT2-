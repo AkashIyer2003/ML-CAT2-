{
 "cells": [
  {
   "cell_type": "code",
   "execution_count": 1,
   "id": "0c13d7bf",
   "metadata": {},
   "outputs": [],
   "source": [
    "import torch.nn as nn\n",
    "import torch.nn.functional as F\n",
    "import torch.optim as optim\n",
    "\n",
    "import pandas as pd\n",
    "from sklearn.preprocessing import StandardScaler\n",
    "from torch.utils.data import Dataset\n",
    "import torch\n",
    "import torchvision"
   ]
  },
  {
   "cell_type": "code",
   "execution_count": 2,
   "id": "7109bf1c",
   "metadata": {},
   "outputs": [],
   "source": [
    "n_epochs = 3\n",
    "learning_rate = 0.01\n",
    "momentum = 0.5\n",
    "torch.backends.cudnn.enabled = True"
   ]
  },
  {
   "cell_type": "code",
   "execution_count": 3,
   "id": "90ee9b09",
   "metadata": {},
   "outputs": [],
   "source": [
    "device = 'cuda' if torch.cuda.is_available() else 'cpu'"
   ]
  },
  {
   "cell_type": "code",
   "execution_count": 4,
   "id": "c8d5a442",
   "metadata": {},
   "outputs": [],
   "source": [
    "class ExtractDataset(Dataset):\n",
    "    def __init__(self,filename) -> None:\n",
    "        file_data = pd.read_csv(filename)\n",
    "        \n",
    "        x = file_data.iloc[:,1:].values\n",
    "        y = file_data.iloc[:,0].values\n",
    "\n",
    "        \n",
    "        x_train = x/255.0\n",
    "        y_train = y\n",
    "\n",
    "        self.X = torch.tensor(x_train , dtype=torch.float32)\n",
    "        self.y = torch.tensor(y_train)\n",
    "\n",
    "    def __len__(self):\n",
    "        return len(self.y)\n",
    "\n",
    "    def __getitem__(self, index) :\n",
    "        return self.X[index],self.y[index]\n",
    "\n"
   ]
  },
  {
   "cell_type": "code",
   "execution_count": 5,
   "id": "139cbeb7",
   "metadata": {},
   "outputs": [],
   "source": [
    "ex = ExtractDataset('data/train.csv')"
   ]
  },
  {
   "cell_type": "code",
   "execution_count": 6,
   "id": "a3c417b4",
   "metadata": {},
   "outputs": [],
   "source": [
    "train_loader = torch.utils.data.DataLoader(ex,batch_size = 64,shuffle=True)"
   ]
  },
  {
   "cell_type": "code",
   "execution_count": 7,
   "id": "a6bb45ac",
   "metadata": {},
   "outputs": [],
   "source": [
    "train_loader = torch.utils.data.DataLoader(\n",
    "  torchvision.datasets.MNIST('', train=True, download=True,\n",
    "                             transform=torchvision.transforms.Compose([\n",
    "                               torchvision.transforms.ToTensor(),\n",
    "                               torchvision.transforms.Normalize(\n",
    "                                 (0.1307,), (0.3081,))\n",
    "                             ])),\n",
    "  batch_size=64, shuffle=True)"
   ]
  },
  {
   "cell_type": "code",
   "execution_count": 8,
   "id": "104cf2d5",
   "metadata": {},
   "outputs": [
    {
     "name": "stdout",
     "output_type": "stream",
     "text": [
      "batch_idx, (example_data, example_targets) = next(examples)\n",
      "torch.Size([64, 1, 28, 28])\n"
     ]
    }
   ],
   "source": [
    "examples = enumerate(train_loader)\n",
    "print(\"batch_idx, (example_data, example_targets) = next(examples)\")\n",
    "print(next(examples)[1][0].shape)\n"
   ]
  },
  {
   "cell_type": "code",
   "execution_count": 9,
   "id": "6cededbf",
   "metadata": {},
   "outputs": [
    {
     "data": {
      "text/plain": [
       "(1,\n",
       " [tensor([[[[-0.4242, -0.4242, -0.4242,  ..., -0.4242, -0.4242, -0.4242],\n",
       "            [-0.4242, -0.4242, -0.4242,  ..., -0.4242, -0.4242, -0.4242],\n",
       "            [-0.4242, -0.4242, -0.4242,  ..., -0.4242, -0.4242, -0.4242],\n",
       "            ...,\n",
       "            [-0.4242, -0.4242, -0.4242,  ..., -0.4242, -0.4242, -0.4242],\n",
       "            [-0.4242, -0.4242, -0.4242,  ..., -0.4242, -0.4242, -0.4242],\n",
       "            [-0.4242, -0.4242, -0.4242,  ..., -0.4242, -0.4242, -0.4242]]],\n",
       "  \n",
       "  \n",
       "          [[[-0.4242, -0.4242, -0.4242,  ..., -0.4242, -0.4242, -0.4242],\n",
       "            [-0.4242, -0.4242, -0.4242,  ..., -0.4242, -0.4242, -0.4242],\n",
       "            [-0.4242, -0.4242, -0.4242,  ..., -0.4242, -0.4242, -0.4242],\n",
       "            ...,\n",
       "            [-0.4242, -0.4242, -0.4242,  ..., -0.4242, -0.4242, -0.4242],\n",
       "            [-0.4242, -0.4242, -0.4242,  ..., -0.4242, -0.4242, -0.4242],\n",
       "            [-0.4242, -0.4242, -0.4242,  ..., -0.4242, -0.4242, -0.4242]]],\n",
       "  \n",
       "  \n",
       "          [[[-0.4242, -0.4242, -0.4242,  ..., -0.4242, -0.4242, -0.4242],\n",
       "            [-0.4242, -0.4242, -0.4242,  ..., -0.4242, -0.4242, -0.4242],\n",
       "            [-0.4242, -0.4242, -0.4242,  ..., -0.4242, -0.4242, -0.4242],\n",
       "            ...,\n",
       "            [-0.4242, -0.4242, -0.4242,  ..., -0.4242, -0.4242, -0.4242],\n",
       "            [-0.4242, -0.4242, -0.4242,  ..., -0.4242, -0.4242, -0.4242],\n",
       "            [-0.4242, -0.4242, -0.4242,  ..., -0.4242, -0.4242, -0.4242]]],\n",
       "  \n",
       "  \n",
       "          ...,\n",
       "  \n",
       "  \n",
       "          [[[-0.4242, -0.4242, -0.4242,  ..., -0.4242, -0.4242, -0.4242],\n",
       "            [-0.4242, -0.4242, -0.4242,  ..., -0.4242, -0.4242, -0.4242],\n",
       "            [-0.4242, -0.4242, -0.4242,  ..., -0.4242, -0.4242, -0.4242],\n",
       "            ...,\n",
       "            [-0.4242, -0.4242, -0.4242,  ..., -0.4242, -0.4242, -0.4242],\n",
       "            [-0.4242, -0.4242, -0.4242,  ..., -0.4242, -0.4242, -0.4242],\n",
       "            [-0.4242, -0.4242, -0.4242,  ..., -0.4242, -0.4242, -0.4242]]],\n",
       "  \n",
       "  \n",
       "          [[[-0.4242, -0.4242, -0.4242,  ..., -0.4242, -0.4242, -0.4242],\n",
       "            [-0.4242, -0.4242, -0.4242,  ..., -0.4242, -0.4242, -0.4242],\n",
       "            [-0.4242, -0.4242, -0.4242,  ..., -0.4242, -0.4242, -0.4242],\n",
       "            ...,\n",
       "            [-0.4242, -0.4242, -0.4242,  ..., -0.4242, -0.4242, -0.4242],\n",
       "            [-0.4242, -0.4242, -0.4242,  ..., -0.4242, -0.4242, -0.4242],\n",
       "            [-0.4242, -0.4242, -0.4242,  ..., -0.4242, -0.4242, -0.4242]]],\n",
       "  \n",
       "  \n",
       "          [[[-0.4242, -0.4242, -0.4242,  ..., -0.4242, -0.4242, -0.4242],\n",
       "            [-0.4242, -0.4242, -0.4242,  ..., -0.4242, -0.4242, -0.4242],\n",
       "            [-0.4242, -0.4242, -0.4242,  ..., -0.4242, -0.4242, -0.4242],\n",
       "            ...,\n",
       "            [-0.4242, -0.4242, -0.4242,  ..., -0.4242, -0.4242, -0.4242],\n",
       "            [-0.4242, -0.4242, -0.4242,  ..., -0.4242, -0.4242, -0.4242],\n",
       "            [-0.4242, -0.4242, -0.4242,  ..., -0.4242, -0.4242, -0.4242]]]]),\n",
       "  tensor([1, 8, 5, 5, 6, 4, 7, 0, 0, 8, 3, 1, 7, 1, 1, 1, 7, 6, 4, 5, 8, 7, 6, 7,\n",
       "          7, 6, 9, 4, 8, 9, 7, 1, 8, 2, 3, 3, 2, 7, 0, 5, 6, 2, 5, 3, 5, 9, 4, 7,\n",
       "          1, 3, 4, 2, 0, 7, 1, 6, 9, 1, 0, 5, 4, 3, 9, 2])])"
      ]
     },
     "execution_count": 9,
     "metadata": {},
     "output_type": "execute_result"
    }
   ],
   "source": [
    "next(examples)"
   ]
  },
  {
   "cell_type": "code",
   "execution_count": 10,
   "id": "8875350d",
   "metadata": {},
   "outputs": [
    {
     "data": {
      "image/png": "[encoded data removed]",
      "text/plain": [
       "<Figure size 640x480 with 6 Axes>"
      ]
     },
     "metadata": {},
     "output_type": "display_data"
    }
   ],
   "source": [
    "import matplotlib.pyplot as plt\n",
    "\n",
    "fig = plt.figure()\n",
    "\n",
    "for i in range(6): \n",
    "    plt.subplot(2,3,i+1)\n",
    "    plt.tight_layout()\n",
    "    plt.imshow(next(examples)[1][0][i].reshape(28,28),cmap=\"gray\")\n",
    "    plt.title(f\"Label {next(examples)[1][1][i]}\")\n",
    "    plt.xticks([])\n",
    "    plt.yticks([])\n"
   ]
  },
  {
   "cell_type": "code",
   "execution_count": 11,
   "id": "01f4ddc0",
   "metadata": {},
   "outputs": [],
   "source": [
    "class NeuralNet(nn.Module):\n",
    "    def __init__(self) -> None:\n",
    "        super(NeuralNet,self).__init__()\n",
    "\n",
    "        self.conv = nn.Conv2d(1,28,kernel_size=3) #[28,1,3,3] -[out_ch,in_ch,k_h,k_w]\n",
    "        self.pool = nn.MaxPool2d(2)\n",
    "\n",
    "        self.hidden = nn.Linear(4732,128)\n",
    "        self.relu = nn.ReLU()\n",
    "        self.output = nn.Linear(128,10)\n",
    "\n",
    "    def forward(self,x): # [64, 1, 28, 28] - [batchsize,n_channel,height,weight]\n",
    "        \n",
    "        x = self.relu(self.conv(x)) # [64,28,26,26]\n",
    "        x = self.pool(x) # [64,28,13,13]\n",
    "        x = x.view(x.size(0),-1) # [64,28x13x13]\n",
    "        x = self.relu(self.hidden(x))\n",
    "        # x = nn.Dropout(0.2)(x)\n",
    "        x = F.dropout(x, training=self.training)\n",
    "        x = self.relu(self.output(x))\n",
    "\n",
    "        return x\n"
   ]
  },
  {
   "cell_type": "code",
   "execution_count": 12,
   "id": "a8aaf141",
   "metadata": {},
   "outputs": [],
   "source": [
    "class Net(nn.Module):\n",
    "    def __init__(self):\n",
    "        super(Net, self).__init__()\n",
    "        self.conv1 = nn.Conv2d(1, 10, kernel_size=5)\n",
    "        self.conv2 = nn.Conv2d(10, 20, kernel_size=5)\n",
    "        self.conv2_drop = nn.Dropout2d()\n",
    "        self.fc1 = nn.Linear(320, 50)\n",
    "        self.fc2 = nn.Linear(50, 10)\n",
    "\n",
    "    def forward(self, x):\n",
    "        x = F.relu(F.max_pool2d(self.conv1(x), 2))\n",
    "        x = F.relu(F.max_pool2d(self.conv2_drop(self.conv2(x)), 2))\n",
    "        x = x.view(-1, 320)\n",
    "        x = F.relu(self.fc1(x))\n",
    "        x = F.dropout(x, training=self.training)\n",
    "        x = self.fc2(x)\n",
    "        return F.log_softmax(x)"
   ]
  },
  {
   "cell_type": "code",
   "execution_count": 13,
   "id": "93a1778a",
   "metadata": {},
   "outputs": [],
   "source": [
    "model = Net()\n",
    "# model.to(torch.device('cuda'))\n",
    "optimizer = optim.SGD(model.parameters(), lr=learning_rate,\n",
    "                      momentum=momentum)"
   ]
  },
  {
   "cell_type": "code",
   "execution_count": 14,
   "id": "ee635728",
   "metadata": {},
   "outputs": [],
   "source": [
    "train_losses = []\n",
    "train_counter = []"
   ]
  },
  {
   "cell_type": "code",
   "execution_count": 15,
   "id": "1423706b",
   "metadata": {},
   "outputs": [],
   "source": [
    "def train(epoch):\n",
    "    model.train()\n",
    "    for batch_idx, (data, target) in enumerate(train_loader):\n",
    "      optimizer.zero_grad()\n",
    "      output = model(data)\n",
    "      loss = F.nll_loss(output, target)\n",
    "      loss.backward()\n",
    "      optimizer.step()\n",
    "      if batch_idx % 10 == 0:\n",
    "        print('Train Epoch: {} [{}/{} ({:.0f}%)]\\tLoss: {:.6f}'.format(\n",
    "          epoch, batch_idx * len(data), len(train_loader.dataset),\n",
    "          100. * batch_idx / len(train_loader), loss.item()))\n",
    "        train_losses.append(loss.item())\n",
    "        train_counter.append(\n",
    "          (batch_idx*64) + ((epoch-1)*len(train_loader.dataset)))"
   ]
  },
  {
   "cell_type": "code",
   "execution_count": 16,
   "id": "ef788bb2",
   "metadata": {},
   "outputs": [
    {
     "name": "stderr",
     "output_type": "stream",
     "text": [
      "[W NNPACK.cpp:51] Could not initialize NNPACK! Reason: Unsupported hardware.\n",
      "/var/folders/zx/mhdl9f0d1c552plym17cmqym0000gn/T/ipykernel_23941/161431047.py:17: UserWarning: Implicit dimension choice for log_softmax has been deprecated. Change the call to include dim=X as an argument.\n",
      "  return F.log_softmax(x)\n"
     ]
    },
    {
     "name": "stdout",
     "output_type": "stream",
     "text": [
      "Train Epoch: 1 [0/60000 (0%)]\tLoss: 2.336324\n",
      "Train Epoch: 1 [640/60000 (1%)]\tLoss: 2.287670\n",
      "Train Epoch: 1 [1280/60000 (2%)]\tLoss: 2.284852\n",
      "Train Epoch: 1 [1920/60000 (3%)]\tLoss: 2.277154\n",
      "Train Epoch: 1 [2560/60000 (4%)]\tLoss: 2.278713\n",
      "Train Epoch: 1 [3200/60000 (5%)]\tLoss: 2.223541\n",
      "Train Epoch: 1 [3840/60000 (6%)]\tLoss: 2.233047\n",
      "Train Epoch: 1 [4480/60000 (7%)]\tLoss: 2.214941\n",
      "Train Epoch: 1 [5120/60000 (9%)]\tLoss: 2.154417\n",
      "Train Epoch: 1 [5760/60000 (10%)]\tLoss: 2.118175\n",
      "Train Epoch: 1 [6400/60000 (11%)]\tLoss: 2.054808\n",
      "Train Epoch: 1 [7040/60000 (12%)]\tLoss: 1.955404\n",
      "Train Epoch: 1 [7680/60000 (13%)]\tLoss: 1.984716\n",
      "Train Epoch: 1 [8320/60000 (14%)]\tLoss: 1.831533\n",
      "Train Epoch: 1 [8960/60000 (15%)]\tLoss: 1.633135\n",
      "Train Epoch: 1 [9600/60000 (16%)]\tLoss: 1.528579\n",
      "Train Epoch: 1 [10240/60000 (17%)]\tLoss: 1.477398\n",
      "Train Epoch: 1 [10880/60000 (18%)]\tLoss: 1.273704\n",
      "Train Epoch: 1 [11520/60000 (19%)]\tLoss: 1.187052\n",
      "Train Epoch: 1 [12160/60000 (20%)]\tLoss: 1.157796\n",
      "Train Epoch: 1 [12800/60000 (21%)]\tLoss: 1.029380\n",
      "Train Epoch: 1 [13440/60000 (22%)]\tLoss: 1.102813\n",
      "Train Epoch: 1 [14080/60000 (23%)]\tLoss: 1.120703\n",
      "Train Epoch: 1 [14720/60000 (25%)]\tLoss: 0.846627\n",
      "Train Epoch: 1 [15360/60000 (26%)]\tLoss: 1.052338\n",
      "Train Epoch: 1 [16000/60000 (27%)]\tLoss: 1.025514\n",
      "Train Epoch: 1 [16640/60000 (28%)]\tLoss: 0.800102\n",
      "Train Epoch: 1 [17280/60000 (29%)]\tLoss: 1.015235\n",
      "Train Epoch: 1 [17920/60000 (30%)]\tLoss: 1.124881\n",
      "Train Epoch: 1 [18560/60000 (31%)]\tLoss: 1.213073\n",
      "Train Epoch: 1 [19200/60000 (32%)]\tLoss: 0.956441\n",
      "Train Epoch: 1 [19840/60000 (33%)]\tLoss: 0.799603\n",
      "Train Epoch: 1 [20480/60000 (34%)]\tLoss: 0.684715\n",
      "Train Epoch: 1 [21120/60000 (35%)]\tLoss: 0.883191\n",
      "Train Epoch: 1 [21760/60000 (36%)]\tLoss: 0.921046\n",
      "Train Epoch: 1 [22400/60000 (37%)]\tLoss: 0.934225\n",
      "Train Epoch: 1 [23040/60000 (38%)]\tLoss: 0.980216\n",
      "Train Epoch: 1 [23680/60000 (39%)]\tLoss: 0.626235\n",
      "Train Epoch: 1 [24320/60000 (41%)]\tLoss: 0.507630\n",
      "Train Epoch: 1 [24960/60000 (42%)]\tLoss: 0.868594\n",
      "Train Epoch: 1 [25600/60000 (43%)]\tLoss: 0.699410\n",
      "Train Epoch: 1 [26240/60000 (44%)]\tLoss: 0.654363\n",
      "Train Epoch: 1 [26880/60000 (45%)]\tLoss: 0.566829\n",
      "Train Epoch: 1 [27520/60000 (46%)]\tLoss: 0.691990\n",
      "Train Epoch: 1 [28160/60000 (47%)]\tLoss: 0.469876\n",
      "Train Epoch: 1 [28800/60000 (48%)]\tLoss: 0.675950\n",
      "Train Epoch: 1 [29440/60000 (49%)]\tLoss: 0.627532\n",
      "Train Epoch: 1 [30080/60000 (50%)]\tLoss: 0.959081\n",
      "Train Epoch: 1 [30720/60000 (51%)]\tLoss: 0.492976\n",
      "Train Epoch: 1 [31360/60000 (52%)]\tLoss: 0.502150\n",
      "Train Epoch: 1 [32000/60000 (53%)]\tLoss: 0.652420\n",
      "Train Epoch: 1 [32640/60000 (54%)]\tLoss: 0.786637\n",
      "Train Epoch: 1 [33280/60000 (55%)]\tLoss: 0.516702\n",
      "Train Epoch: 1 [33920/60000 (57%)]\tLoss: 0.577573\n",
      "Train Epoch: 1 [34560/60000 (58%)]\tLoss: 0.610549\n",
      "Train Epoch: 1 [35200/60000 (59%)]\tLoss: 0.522793\n",
      "Train Epoch: 1 [35840/60000 (60%)]\tLoss: 0.509488\n",
      "Train Epoch: 1 [36480/60000 (61%)]\tLoss: 0.383036\n",
      "Train Epoch: 1 [37120/60000 (62%)]\tLoss: 0.440717\n",
      "Train Epoch: 1 [37760/60000 (63%)]\tLoss: 0.532322\n",
      "Train Epoch: 1 [38400/60000 (64%)]\tLoss: 0.474428\n",
      "Train Epoch: 1 [39040/60000 (65%)]\tLoss: 0.497701\n",
      "Train Epoch: 1 [39680/60000 (66%)]\tLoss: 0.591417\n",
      "Train Epoch: 1 [40320/60000 (67%)]\tLoss: 0.636815\n",
      "Train Epoch: 1 [40960/60000 (68%)]\tLoss: 0.815089\n",
      "Train Epoch: 1 [41600/60000 (69%)]\tLoss: 0.534838\n",
      "Train Epoch: 1 [42240/60000 (70%)]\tLoss: 0.415489\n",
      "Train Epoch: 1 [42880/60000 (71%)]\tLoss: 0.815163\n",
      "Train Epoch: 1 [43520/60000 (72%)]\tLoss: 0.382696\n",
      "Train Epoch: 1 [44160/60000 (74%)]\tLoss: 0.556040\n",
      "Train Epoch: 1 [44800/60000 (75%)]\tLoss: 0.507092\n",
      "Train Epoch: 1 [45440/60000 (76%)]\tLoss: 0.367116\n",
      "Train Epoch: 1 [46080/60000 (77%)]\tLoss: 0.484247\n",
      "Train Epoch: 1 [46720/60000 (78%)]\tLoss: 0.756473\n",
      "Train Epoch: 1 [47360/60000 (79%)]\tLoss: 0.590592\n",
      "Train Epoch: 1 [48000/60000 (80%)]\tLoss: 0.444629\n",
      "Train Epoch: 1 [48640/60000 (81%)]\tLoss: 0.636013\n",
      "Train Epoch: 1 [49280/60000 (82%)]\tLoss: 0.347191\n",
      "Train Epoch: 1 [49920/60000 (83%)]\tLoss: 0.468483\n",
      "Train Epoch: 1 [50560/60000 (84%)]\tLoss: 0.540806\n",
      "Train Epoch: 1 [51200/60000 (85%)]\tLoss: 0.416930\n",
      "Train Epoch: 1 [51840/60000 (86%)]\tLoss: 0.656333\n",
      "Train Epoch: 1 [52480/60000 (87%)]\tLoss: 0.451620\n",
      "Train Epoch: 1 [53120/60000 (88%)]\tLoss: 0.577915\n",
      "Train Epoch: 1 [53760/60000 (90%)]\tLoss: 0.614022\n",
      "Train Epoch: 1 [54400/60000 (91%)]\tLoss: 0.559334\n",
      "Train Epoch: 1 [55040/60000 (92%)]\tLoss: 0.513185\n",
      "Train Epoch: 1 [55680/60000 (93%)]\tLoss: 0.284286\n",
      "Train Epoch: 1 [56320/60000 (94%)]\tLoss: 0.518620\n",
      "Train Epoch: 1 [56960/60000 (95%)]\tLoss: 0.486584\n",
      "Train Epoch: 1 [57600/60000 (96%)]\tLoss: 0.246169\n",
      "Train Epoch: 1 [58240/60000 (97%)]\tLoss: 0.743786\n",
      "Train Epoch: 1 [58880/60000 (98%)]\tLoss: 0.352798\n",
      "Train Epoch: 1 [59520/60000 (99%)]\tLoss: 0.622432\n",
      "Train Epoch: 2 [0/60000 (0%)]\tLoss: 0.780131\n",
      "Train Epoch: 2 [640/60000 (1%)]\tLoss: 0.316088\n",
      "Train Epoch: 2 [1280/60000 (2%)]\tLoss: 0.653365\n",
      "Train Epoch: 2 [1920/60000 (3%)]\tLoss: 0.437037\n",
      "Train Epoch: 2 [2560/60000 (4%)]\tLoss: 0.337217\n",
      "Train Epoch: 2 [3200/60000 (5%)]\tLoss: 0.678752\n",
      "Train Epoch: 2 [3840/60000 (6%)]\tLoss: 0.253896\n",
      "Train Epoch: 2 [4480/60000 (7%)]\tLoss: 0.709471\n",
      "Train Epoch: 2 [5120/60000 (9%)]\tLoss: 0.248305\n",
      "Train Epoch: 2 [5760/60000 (10%)]\tLoss: 0.306204\n",
      "Train Epoch: 2 [6400/60000 (11%)]\tLoss: 0.362778\n",
      "Train Epoch: 2 [7040/60000 (12%)]\tLoss: 0.344267\n",
      "Train Epoch: 2 [7680/60000 (13%)]\tLoss: 0.444854\n",
      "Train Epoch: 2 [8320/60000 (14%)]\tLoss: 0.352356\n",
      "Train Epoch: 2 [8960/60000 (15%)]\tLoss: 0.372785\n",
      "Train Epoch: 2 [9600/60000 (16%)]\tLoss: 0.396232\n",
      "Train Epoch: 2 [10240/60000 (17%)]\tLoss: 0.457109\n",
      "Train Epoch: 2 [10880/60000 (18%)]\tLoss: 0.290948\n",
      "Train Epoch: 2 [11520/60000 (19%)]\tLoss: 0.407271\n",
      "Train Epoch: 2 [12160/60000 (20%)]\tLoss: 0.390677\n",
      "Train Epoch: 2 [12800/60000 (21%)]\tLoss: 0.258305\n",
      "Train Epoch: 2 [13440/60000 (22%)]\tLoss: 0.412083\n",
      "Train Epoch: 2 [14080/60000 (23%)]\tLoss: 0.332924\n",
      "Train Epoch: 2 [14720/60000 (25%)]\tLoss: 0.433481\n",
      "Train Epoch: 2 [15360/60000 (26%)]\tLoss: 0.353828\n",
      "Train Epoch: 2 [16000/60000 (27%)]\tLoss: 0.501045\n",
      "Train Epoch: 2 [16640/60000 (28%)]\tLoss: 0.406134\n",
      "Train Epoch: 2 [17280/60000 (29%)]\tLoss: 0.402466\n",
      "Train Epoch: 2 [17920/60000 (30%)]\tLoss: 0.444891\n",
      "Train Epoch: 2 [18560/60000 (31%)]\tLoss: 0.449262\n",
      "Train Epoch: 2 [19200/60000 (32%)]\tLoss: 0.342234\n",
      "Train Epoch: 2 [19840/60000 (33%)]\tLoss: 0.390541\n",
      "Train Epoch: 2 [20480/60000 (34%)]\tLoss: 0.281666\n",
      "Train Epoch: 2 [21120/60000 (35%)]\tLoss: 0.318682\n",
      "Train Epoch: 2 [21760/60000 (36%)]\tLoss: 0.375424\n",
      "Train Epoch: 2 [22400/60000 (37%)]\tLoss: 0.290795\n",
      "Train Epoch: 2 [23040/60000 (38%)]\tLoss: 0.423117\n",
      "Train Epoch: 2 [23680/60000 (39%)]\tLoss: 0.376108\n",
      "Train Epoch: 2 [24320/60000 (41%)]\tLoss: 0.186997\n",
      "Train Epoch: 2 [24960/60000 (42%)]\tLoss: 0.459610\n",
      "Train Epoch: 2 [25600/60000 (43%)]\tLoss: 0.293556\n",
      "Train Epoch: 2 [26240/60000 (44%)]\tLoss: 0.324098\n",
      "Train Epoch: 2 [26880/60000 (45%)]\tLoss: 0.348255\n",
      "Train Epoch: 2 [27520/60000 (46%)]\tLoss: 0.537444\n",
      "Train Epoch: 2 [28160/60000 (47%)]\tLoss: 0.241621\n",
      "Train Epoch: 2 [28800/60000 (48%)]\tLoss: 0.568721\n",
      "Train Epoch: 2 [29440/60000 (49%)]\tLoss: 0.296062\n",
      "Train Epoch: 2 [30080/60000 (50%)]\tLoss: 0.335009\n",
      "Train Epoch: 2 [30720/60000 (51%)]\tLoss: 0.317519\n",
      "Train Epoch: 2 [31360/60000 (52%)]\tLoss: 0.394907\n",
      "Train Epoch: 2 [32000/60000 (53%)]\tLoss: 0.281783\n",
      "Train Epoch: 2 [32640/60000 (54%)]\tLoss: 0.237886\n",
      "Train Epoch: 2 [33280/60000 (55%)]\tLoss: 0.089573\n",
      "Train Epoch: 2 [33920/60000 (57%)]\tLoss: 0.270583\n",
      "Train Epoch: 2 [34560/60000 (58%)]\tLoss: 0.565845\n",
      "Train Epoch: 2 [35200/60000 (59%)]\tLoss: 0.855869\n",
      "Train Epoch: 2 [35840/60000 (60%)]\tLoss: 0.386451\n",
      "Train Epoch: 2 [36480/60000 (61%)]\tLoss: 0.200182\n",
      "Train Epoch: 2 [37120/60000 (62%)]\tLoss: 0.422790\n",
      "Train Epoch: 2 [37760/60000 (63%)]\tLoss: 0.280669\n",
      "Train Epoch: 2 [38400/60000 (64%)]\tLoss: 0.418988\n",
      "Train Epoch: 2 [39040/60000 (65%)]\tLoss: 0.229362\n",
      "Train Epoch: 2 [39680/60000 (66%)]\tLoss: 0.409988\n",
      "Train Epoch: 2 [40320/60000 (67%)]\tLoss: 0.354665\n",
      "Train Epoch: 2 [40960/60000 (68%)]\tLoss: 0.391066\n",
      "Train Epoch: 2 [41600/60000 (69%)]\tLoss: 0.387522\n",
      "Train Epoch: 2 [42240/60000 (70%)]\tLoss: 0.486126\n",
      "Train Epoch: 2 [42880/60000 (71%)]\tLoss: 0.375301\n",
      "Train Epoch: 2 [43520/60000 (72%)]\tLoss: 0.392773\n",
      "Train Epoch: 2 [44160/60000 (74%)]\tLoss: 0.263414\n",
      "Train Epoch: 2 [44800/60000 (75%)]\tLoss: 0.320005\n",
      "Train Epoch: 2 [45440/60000 (76%)]\tLoss: 0.281554\n"
     ]
    },
    {
     "name": "stdout",
     "output_type": "stream",
     "text": [
      "Train Epoch: 2 [46080/60000 (77%)]\tLoss: 0.328065\n",
      "Train Epoch: 2 [46720/60000 (78%)]\tLoss: 0.210802\n",
      "Train Epoch: 2 [47360/60000 (79%)]\tLoss: 0.205242\n",
      "Train Epoch: 2 [48000/60000 (80%)]\tLoss: 0.406868\n",
      "Train Epoch: 2 [48640/60000 (81%)]\tLoss: 0.405864\n",
      "Train Epoch: 2 [49280/60000 (82%)]\tLoss: 0.626250\n",
      "Train Epoch: 2 [49920/60000 (83%)]\tLoss: 0.292639\n",
      "Train Epoch: 2 [50560/60000 (84%)]\tLoss: 0.558835\n",
      "Train Epoch: 2 [51200/60000 (85%)]\tLoss: 0.167156\n",
      "Train Epoch: 2 [51840/60000 (86%)]\tLoss: 0.212270\n",
      "Train Epoch: 2 [52480/60000 (87%)]\tLoss: 0.296405\n",
      "Train Epoch: 2 [53120/60000 (88%)]\tLoss: 0.198359\n",
      "Train Epoch: 2 [53760/60000 (90%)]\tLoss: 0.453653\n",
      "Train Epoch: 2 [54400/60000 (91%)]\tLoss: 0.275895\n",
      "Train Epoch: 2 [55040/60000 (92%)]\tLoss: 0.299541\n",
      "Train Epoch: 2 [55680/60000 (93%)]\tLoss: 0.254634\n",
      "Train Epoch: 2 [56320/60000 (94%)]\tLoss: 0.307786\n",
      "Train Epoch: 2 [56960/60000 (95%)]\tLoss: 0.411380\n",
      "Train Epoch: 2 [57600/60000 (96%)]\tLoss: 0.384804\n",
      "Train Epoch: 2 [58240/60000 (97%)]\tLoss: 0.348971\n",
      "Train Epoch: 2 [58880/60000 (98%)]\tLoss: 0.540488\n",
      "Train Epoch: 2 [59520/60000 (99%)]\tLoss: 0.258808\n",
      "Train Epoch: 3 [0/60000 (0%)]\tLoss: 0.253334\n",
      "Train Epoch: 3 [640/60000 (1%)]\tLoss: 0.267346\n",
      "Train Epoch: 3 [1280/60000 (2%)]\tLoss: 0.205825\n",
      "Train Epoch: 3 [1920/60000 (3%)]\tLoss: 0.281334\n",
      "Train Epoch: 3 [2560/60000 (4%)]\tLoss: 0.423183\n",
      "Train Epoch: 3 [3200/60000 (5%)]\tLoss: 0.310610\n",
      "Train Epoch: 3 [3840/60000 (6%)]\tLoss: 0.274423\n",
      "Train Epoch: 3 [4480/60000 (7%)]\tLoss: 0.210293\n",
      "Train Epoch: 3 [5120/60000 (9%)]\tLoss: 0.247619\n",
      "Train Epoch: 3 [5760/60000 (10%)]\tLoss: 0.363071\n",
      "Train Epoch: 3 [6400/60000 (11%)]\tLoss: 0.320879\n",
      "Train Epoch: 3 [7040/60000 (12%)]\tLoss: 0.262908\n",
      "Train Epoch: 3 [7680/60000 (13%)]\tLoss: 0.405018\n",
      "Train Epoch: 3 [8320/60000 (14%)]\tLoss: 0.329621\n",
      "Train Epoch: 3 [8960/60000 (15%)]\tLoss: 0.340567\n",
      "Train Epoch: 3 [9600/60000 (16%)]\tLoss: 0.428693\n",
      "Train Epoch: 3 [10240/60000 (17%)]\tLoss: 0.405899\n",
      "Train Epoch: 3 [10880/60000 (18%)]\tLoss: 0.356623\n",
      "Train Epoch: 3 [11520/60000 (19%)]\tLoss: 0.166695\n",
      "Train Epoch: 3 [12160/60000 (20%)]\tLoss: 0.417067\n",
      "Train Epoch: 3 [12800/60000 (21%)]\tLoss: 0.320038\n",
      "Train Epoch: 3 [13440/60000 (22%)]\tLoss: 0.451232\n",
      "Train Epoch: 3 [14080/60000 (23%)]\tLoss: 0.178858\n",
      "Train Epoch: 3 [14720/60000 (25%)]\tLoss: 0.186934\n",
      "Train Epoch: 3 [15360/60000 (26%)]\tLoss: 0.453658\n",
      "Train Epoch: 3 [16000/60000 (27%)]\tLoss: 0.149222\n",
      "Train Epoch: 3 [16640/60000 (28%)]\tLoss: 0.225527\n",
      "Train Epoch: 3 [17280/60000 (29%)]\tLoss: 0.219794\n",
      "Train Epoch: 3 [17920/60000 (30%)]\tLoss: 0.456897\n",
      "Train Epoch: 3 [18560/60000 (31%)]\tLoss: 0.367982\n",
      "Train Epoch: 3 [19200/60000 (32%)]\tLoss: 0.487101\n",
      "Train Epoch: 3 [19840/60000 (33%)]\tLoss: 0.366824\n",
      "Train Epoch: 3 [20480/60000 (34%)]\tLoss: 0.419571\n",
      "Train Epoch: 3 [21120/60000 (35%)]\tLoss: 0.308528\n",
      "Train Epoch: 3 [21760/60000 (36%)]\tLoss: 0.302677\n",
      "Train Epoch: 3 [22400/60000 (37%)]\tLoss: 0.391730\n",
      "Train Epoch: 3 [23040/60000 (38%)]\tLoss: 0.259218\n",
      "Train Epoch: 3 [23680/60000 (39%)]\tLoss: 0.163881\n",
      "Train Epoch: 3 [24320/60000 (41%)]\tLoss: 0.260076\n",
      "Train Epoch: 3 [24960/60000 (42%)]\tLoss: 0.297519\n",
      "Train Epoch: 3 [25600/60000 (43%)]\tLoss: 0.194587\n",
      "Train Epoch: 3 [26240/60000 (44%)]\tLoss: 0.138687\n",
      "Train Epoch: 3 [26880/60000 (45%)]\tLoss: 0.220522\n",
      "Train Epoch: 3 [27520/60000 (46%)]\tLoss: 0.213400\n",
      "Train Epoch: 3 [28160/60000 (47%)]\tLoss: 0.247840\n",
      "Train Epoch: 3 [28800/60000 (48%)]\tLoss: 0.350898\n",
      "Train Epoch: 3 [29440/60000 (49%)]\tLoss: 0.357227\n",
      "Train Epoch: 3 [30080/60000 (50%)]\tLoss: 0.489600\n",
      "Train Epoch: 3 [30720/60000 (51%)]\tLoss: 0.504478\n",
      "Train Epoch: 3 [31360/60000 (52%)]\tLoss: 0.234866\n",
      "Train Epoch: 3 [32000/60000 (53%)]\tLoss: 0.547256\n",
      "Train Epoch: 3 [32640/60000 (54%)]\tLoss: 0.424552\n",
      "Train Epoch: 3 [33280/60000 (55%)]\tLoss: 0.526561\n",
      "Train Epoch: 3 [33920/60000 (57%)]\tLoss: 0.175499\n",
      "Train Epoch: 3 [34560/60000 (58%)]\tLoss: 0.156675\n",
      "Train Epoch: 3 [35200/60000 (59%)]\tLoss: 0.288780\n",
      "Train Epoch: 3 [35840/60000 (60%)]\tLoss: 0.174832\n",
      "Train Epoch: 3 [36480/60000 (61%)]\tLoss: 0.284132\n",
      "Train Epoch: 3 [37120/60000 (62%)]\tLoss: 0.386686\n",
      "Train Epoch: 3 [37760/60000 (63%)]\tLoss: 0.269626\n",
      "Train Epoch: 3 [38400/60000 (64%)]\tLoss: 0.108249\n",
      "Train Epoch: 3 [39040/60000 (65%)]\tLoss: 0.270296\n",
      "Train Epoch: 3 [39680/60000 (66%)]\tLoss: 0.353284\n",
      "Train Epoch: 3 [40320/60000 (67%)]\tLoss: 0.288687\n",
      "Train Epoch: 3 [40960/60000 (68%)]\tLoss: 0.328714\n",
      "Train Epoch: 3 [41600/60000 (69%)]\tLoss: 0.318336\n",
      "Train Epoch: 3 [42240/60000 (70%)]\tLoss: 0.366301\n",
      "Train Epoch: 3 [42880/60000 (71%)]\tLoss: 0.165699\n",
      "Train Epoch: 3 [43520/60000 (72%)]\tLoss: 0.342368\n",
      "Train Epoch: 3 [44160/60000 (74%)]\tLoss: 0.479695\n",
      "Train Epoch: 3 [44800/60000 (75%)]\tLoss: 0.156498\n",
      "Train Epoch: 3 [45440/60000 (76%)]\tLoss: 0.347524\n",
      "Train Epoch: 3 [46080/60000 (77%)]\tLoss: 0.194208\n",
      "Train Epoch: 3 [46720/60000 (78%)]\tLoss: 0.368658\n",
      "Train Epoch: 3 [47360/60000 (79%)]\tLoss: 0.265361\n",
      "Train Epoch: 3 [48000/60000 (80%)]\tLoss: 0.140034\n",
      "Train Epoch: 3 [48640/60000 (81%)]\tLoss: 0.248453\n",
      "Train Epoch: 3 [49280/60000 (82%)]\tLoss: 0.385539\n",
      "Train Epoch: 3 [49920/60000 (83%)]\tLoss: 0.226541\n",
      "Train Epoch: 3 [50560/60000 (84%)]\tLoss: 0.450537\n",
      "Train Epoch: 3 [51200/60000 (85%)]\tLoss: 0.404473\n",
      "Train Epoch: 3 [51840/60000 (86%)]\tLoss: 0.285890\n",
      "Train Epoch: 3 [52480/60000 (87%)]\tLoss: 0.333397\n",
      "Train Epoch: 3 [53120/60000 (88%)]\tLoss: 0.185241\n",
      "Train Epoch: 3 [53760/60000 (90%)]\tLoss: 0.227611\n",
      "Train Epoch: 3 [54400/60000 (91%)]\tLoss: 0.165626\n",
      "Train Epoch: 3 [55040/60000 (92%)]\tLoss: 0.256977\n",
      "Train Epoch: 3 [55680/60000 (93%)]\tLoss: 0.220668\n",
      "Train Epoch: 3 [56320/60000 (94%)]\tLoss: 0.120945\n",
      "Train Epoch: 3 [56960/60000 (95%)]\tLoss: 0.251874\n",
      "Train Epoch: 3 [57600/60000 (96%)]\tLoss: 0.113820\n",
      "Train Epoch: 3 [58240/60000 (97%)]\tLoss: 0.229294\n",
      "Train Epoch: 3 [58880/60000 (98%)]\tLoss: 0.179548\n",
      "Train Epoch: 3 [59520/60000 (99%)]\tLoss: 0.204328\n"
     ]
    }
   ],
   "source": [
    "for epoch in range(1,n_epochs+1):\n",
    "    train(epoch)"
   ]
  },
  {
   "cell_type": "code",
   "execution_count": 17,
   "id": "c14c638b",
   "metadata": {},
   "outputs": [
    {
     "data": {
      "image/png": "[encoded data removed]",
      "text/plain": [
       "<Figure size 640x480 with 1 Axes>"
      ]
     },
     "execution_count": 17,
     "metadata": {},
     "output_type": "execute_result"
    },
    {
     "data": {
      "image/png": "[encoded data removed]",
      "text/plain": [
       "<Figure size 640x480 with 1 Axes>"
      ]
     },
     "metadata": {},
     "output_type": "display_data"
    }
   ],
   "source": [
    "fig = plt.figure()\n",
    "plt.plot(train_counter, color='blue')\n",
    "plt.legend(['Train Loss'])\n",
    "plt.xlabel('number of training examples seen')\n",
    "plt.ylabel('negative log likelihood loss')\n",
    "fig"
   ]
  },
  {
   "cell_type": "code",
   "execution_count": 18,
   "id": "bde7ed42",
   "metadata": {},
   "outputs": [],
   "source": [
    "ex = ExtractDataset('data/test.csv')\n",
    "test_loader = torch.utils.data.DataLoader(ex,batch_size = 64,shuffle=True)"
   ]
  },
  {
   "cell_type": "code",
   "execution_count": 19,
   "id": "e25551ad",
   "metadata": {},
   "outputs": [
    {
     "name": "stdout",
     "output_type": "stream",
     "text": [
      "batch_idx, (example_data, example_targets) = next(examples)\n",
      "torch.Size([64, 783])\n"
     ]
    }
   ],
   "source": [
    "examples = enumerate(test_loader)\n",
    "print(\"batch_idx, (example_data, example_targets) = next(examples)\")\n",
    "print(next(examples)[1][0].shape)\n"
   ]
  },
  {
   "cell_type": "code",
   "execution_count": 20,
   "id": "7050344f",
   "metadata": {},
   "outputs": [],
   "source": [
    "import pandas as pd\n",
    "test_data =pd.read_csv(\"data/test.csv\")"
   ]
  },
  {
   "cell_type": "code",
   "execution_count": 21,
   "id": "851aa98a",
   "metadata": {},
   "outputs": [],
   "source": [
    "test_data_1 = test_data.iloc[0,:].values.reshape(1,784)"
   ]
  },
  {
   "cell_type": "code",
   "execution_count": 22,
   "id": "5a25790b",
   "metadata": {},
   "outputs": [],
   "source": [
    "data=torch.from_numpy(test_data_1)\n",
    "data = data.type(torch.float64)\n",
    "# test_loader = torch.utils.data.DataLoader(data,batch_size = 64,shuffle=True)"
   ]
  },
  {
   "cell_type": "code",
   "execution_count": 23,
   "id": "37d31231",
   "metadata": {},
   "outputs": [],
   "source": [
    "data = enumerate(test_loader)"
   ]
  },
  {
   "cell_type": "code",
   "execution_count": 24,
   "id": "00c0a951",
   "metadata": {},
   "outputs": [
    {
     "ename": "TypeError",
     "evalue": "conv2d() received an invalid combination of arguments - got (enumerate, Parameter, Parameter, tuple, tuple, tuple, int), but expected one of:\n * (Tensor input, Tensor weight, Tensor bias, tuple of ints stride, tuple of ints padding, tuple of ints dilation, int groups)\n      didn't match because some of the arguments have invalid types: (!enumerate!, !Parameter!, !Parameter!, !tuple!, !tuple!, !tuple!, int)\n * (Tensor input, Tensor weight, Tensor bias, tuple of ints stride, str padding, tuple of ints dilation, int groups)\n      didn't match because some of the arguments have invalid types: (!enumerate!, !Parameter!, !Parameter!, !tuple!, !tuple!, !tuple!, int)\n",
     "output_type": "error",
     "traceback": [
      "\u001b[0;31m---------------------------------------------------------------------------\u001b[0m",
      "\u001b[0;31mTypeError\u001b[0m                                 Traceback (most recent call last)",
      "\u001b[0;32m/var/folders/zx/mhdl9f0d1c552plym17cmqym0000gn/T/ipykernel_23941/958051570.py\u001b[0m in \u001b[0;36m<module>\u001b[0;34m\u001b[0m\n\u001b[1;32m      1\u001b[0m \u001b[0;32mwith\u001b[0m \u001b[0mtorch\u001b[0m\u001b[0;34m.\u001b[0m\u001b[0mno_grad\u001b[0m\u001b[0;34m(\u001b[0m\u001b[0;34m)\u001b[0m\u001b[0;34m:\u001b[0m\u001b[0;34m\u001b[0m\u001b[0;34m\u001b[0m\u001b[0m\n\u001b[0;32m----> 2\u001b[0;31m     \u001b[0moutput\u001b[0m \u001b[0;34m=\u001b[0m \u001b[0mmodel\u001b[0m\u001b[0;34m(\u001b[0m\u001b[0mdata\u001b[0m\u001b[0;34m)\u001b[0m\u001b[0;34m\u001b[0m\u001b[0;34m\u001b[0m\u001b[0m\n\u001b[0m",
      "\u001b[0;32m~/opt/anaconda3/lib/python3.9/site-packages/torch/nn/modules/module.py\u001b[0m in \u001b[0;36m_call_impl\u001b[0;34m(self, *input, **kwargs)\u001b[0m\n\u001b[1;32m   1128\u001b[0m         if not (self._backward_hooks or self._forward_hooks or self._forward_pre_hooks or _global_backward_hooks\n\u001b[1;32m   1129\u001b[0m                 or _global_forward_hooks or _global_forward_pre_hooks):\n\u001b[0;32m-> 1130\u001b[0;31m             \u001b[0;32mreturn\u001b[0m \u001b[0mforward_call\u001b[0m\u001b[0;34m(\u001b[0m\u001b[0;34m*\u001b[0m\u001b[0minput\u001b[0m\u001b[0;34m,\u001b[0m \u001b[0;34m**\u001b[0m\u001b[0mkwargs\u001b[0m\u001b[0;34m)\u001b[0m\u001b[0;34m\u001b[0m\u001b[0;34m\u001b[0m\u001b[0m\n\u001b[0m\u001b[1;32m   1131\u001b[0m         \u001b[0;31m# Do not call functions when jit is used\u001b[0m\u001b[0;34m\u001b[0m\u001b[0;34m\u001b[0m\u001b[0m\n\u001b[1;32m   1132\u001b[0m         \u001b[0mfull_backward_hooks\u001b[0m\u001b[0;34m,\u001b[0m \u001b[0mnon_full_backward_hooks\u001b[0m \u001b[0;34m=\u001b[0m \u001b[0;34m[\u001b[0m\u001b[0;34m]\u001b[0m\u001b[0;34m,\u001b[0m \u001b[0;34m[\u001b[0m\u001b[0;34m]\u001b[0m\u001b[0;34m\u001b[0m\u001b[0;34m\u001b[0m\u001b[0m\n",
      "\u001b[0;32m/var/folders/zx/mhdl9f0d1c552plym17cmqym0000gn/T/ipykernel_23941/161431047.py\u001b[0m in \u001b[0;36mforward\u001b[0;34m(self, x)\u001b[0m\n\u001b[1;32m      9\u001b[0m \u001b[0;34m\u001b[0m\u001b[0m\n\u001b[1;32m     10\u001b[0m     \u001b[0;32mdef\u001b[0m \u001b[0mforward\u001b[0m\u001b[0;34m(\u001b[0m\u001b[0mself\u001b[0m\u001b[0;34m,\u001b[0m \u001b[0mx\u001b[0m\u001b[0;34m)\u001b[0m\u001b[0;34m:\u001b[0m\u001b[0;34m\u001b[0m\u001b[0;34m\u001b[0m\u001b[0m\n\u001b[0;32m---> 11\u001b[0;31m         \u001b[0mx\u001b[0m \u001b[0;34m=\u001b[0m \u001b[0mF\u001b[0m\u001b[0;34m.\u001b[0m\u001b[0mrelu\u001b[0m\u001b[0;34m(\u001b[0m\u001b[0mF\u001b[0m\u001b[0;34m.\u001b[0m\u001b[0mmax_pool2d\u001b[0m\u001b[0;34m(\u001b[0m\u001b[0mself\u001b[0m\u001b[0;34m.\u001b[0m\u001b[0mconv1\u001b[0m\u001b[0;34m(\u001b[0m\u001b[0mx\u001b[0m\u001b[0;34m)\u001b[0m\u001b[0;34m,\u001b[0m \u001b[0;36m2\u001b[0m\u001b[0;34m)\u001b[0m\u001b[0;34m)\u001b[0m\u001b[0;34m\u001b[0m\u001b[0;34m\u001b[0m\u001b[0m\n\u001b[0m\u001b[1;32m     12\u001b[0m         \u001b[0mx\u001b[0m \u001b[0;34m=\u001b[0m \u001b[0mF\u001b[0m\u001b[0;34m.\u001b[0m\u001b[0mrelu\u001b[0m\u001b[0;34m(\u001b[0m\u001b[0mF\u001b[0m\u001b[0;34m.\u001b[0m\u001b[0mmax_pool2d\u001b[0m\u001b[0;34m(\u001b[0m\u001b[0mself\u001b[0m\u001b[0;34m.\u001b[0m\u001b[0mconv2_drop\u001b[0m\u001b[0;34m(\u001b[0m\u001b[0mself\u001b[0m\u001b[0;34m.\u001b[0m\u001b[0mconv2\u001b[0m\u001b[0;34m(\u001b[0m\u001b[0mx\u001b[0m\u001b[0;34m)\u001b[0m\u001b[0;34m)\u001b[0m\u001b[0;34m,\u001b[0m \u001b[0;36m2\u001b[0m\u001b[0;34m)\u001b[0m\u001b[0;34m)\u001b[0m\u001b[0;34m\u001b[0m\u001b[0;34m\u001b[0m\u001b[0m\n\u001b[1;32m     13\u001b[0m         \u001b[0mx\u001b[0m \u001b[0;34m=\u001b[0m \u001b[0mx\u001b[0m\u001b[0;34m.\u001b[0m\u001b[0mview\u001b[0m\u001b[0;34m(\u001b[0m\u001b[0;34m-\u001b[0m\u001b[0;36m1\u001b[0m\u001b[0;34m,\u001b[0m \u001b[0;36m320\u001b[0m\u001b[0;34m)\u001b[0m\u001b[0;34m\u001b[0m\u001b[0;34m\u001b[0m\u001b[0m\n",
      "\u001b[0;32m~/opt/anaconda3/lib/python3.9/site-packages/torch/nn/modules/module.py\u001b[0m in \u001b[0;36m_call_impl\u001b[0;34m(self, *input, **kwargs)\u001b[0m\n\u001b[1;32m   1128\u001b[0m         if not (self._backward_hooks or self._forward_hooks or self._forward_pre_hooks or _global_backward_hooks\n\u001b[1;32m   1129\u001b[0m                 or _global_forward_hooks or _global_forward_pre_hooks):\n\u001b[0;32m-> 1130\u001b[0;31m             \u001b[0;32mreturn\u001b[0m \u001b[0mforward_call\u001b[0m\u001b[0;34m(\u001b[0m\u001b[0;34m*\u001b[0m\u001b[0minput\u001b[0m\u001b[0;34m,\u001b[0m \u001b[0;34m**\u001b[0m\u001b[0mkwargs\u001b[0m\u001b[0;34m)\u001b[0m\u001b[0;34m\u001b[0m\u001b[0;34m\u001b[0m\u001b[0m\n\u001b[0m\u001b[1;32m   1131\u001b[0m         \u001b[0;31m# Do not call functions when jit is used\u001b[0m\u001b[0;34m\u001b[0m\u001b[0;34m\u001b[0m\u001b[0m\n\u001b[1;32m   1132\u001b[0m         \u001b[0mfull_backward_hooks\u001b[0m\u001b[0;34m,\u001b[0m \u001b[0mnon_full_backward_hooks\u001b[0m \u001b[0;34m=\u001b[0m \u001b[0;34m[\u001b[0m\u001b[0;34m]\u001b[0m\u001b[0;34m,\u001b[0m \u001b[0;34m[\u001b[0m\u001b[0;34m]\u001b[0m\u001b[0;34m\u001b[0m\u001b[0;34m\u001b[0m\u001b[0m\n",
      "\u001b[0;32m~/opt/anaconda3/lib/python3.9/site-packages/torch/nn/modules/conv.py\u001b[0m in \u001b[0;36mforward\u001b[0;34m(self, input)\u001b[0m\n\u001b[1;32m    455\u001b[0m \u001b[0;34m\u001b[0m\u001b[0m\n\u001b[1;32m    456\u001b[0m     \u001b[0;32mdef\u001b[0m \u001b[0mforward\u001b[0m\u001b[0;34m(\u001b[0m\u001b[0mself\u001b[0m\u001b[0;34m,\u001b[0m \u001b[0minput\u001b[0m\u001b[0;34m:\u001b[0m \u001b[0mTensor\u001b[0m\u001b[0;34m)\u001b[0m \u001b[0;34m->\u001b[0m \u001b[0mTensor\u001b[0m\u001b[0;34m:\u001b[0m\u001b[0;34m\u001b[0m\u001b[0;34m\u001b[0m\u001b[0m\n\u001b[0;32m--> 457\u001b[0;31m         \u001b[0;32mreturn\u001b[0m \u001b[0mself\u001b[0m\u001b[0;34m.\u001b[0m\u001b[0m_conv_forward\u001b[0m\u001b[0;34m(\u001b[0m\u001b[0minput\u001b[0m\u001b[0;34m,\u001b[0m \u001b[0mself\u001b[0m\u001b[0;34m.\u001b[0m\u001b[0mweight\u001b[0m\u001b[0;34m,\u001b[0m \u001b[0mself\u001b[0m\u001b[0;34m.\u001b[0m\u001b[0mbias\u001b[0m\u001b[0;34m)\u001b[0m\u001b[0;34m\u001b[0m\u001b[0;34m\u001b[0m\u001b[0m\n\u001b[0m\u001b[1;32m    458\u001b[0m \u001b[0;34m\u001b[0m\u001b[0m\n\u001b[1;32m    459\u001b[0m \u001b[0;32mclass\u001b[0m \u001b[0mConv3d\u001b[0m\u001b[0;34m(\u001b[0m\u001b[0m_ConvNd\u001b[0m\u001b[0;34m)\u001b[0m\u001b[0;34m:\u001b[0m\u001b[0;34m\u001b[0m\u001b[0;34m\u001b[0m\u001b[0m\n",
      "\u001b[0;32m~/opt/anaconda3/lib/python3.9/site-packages/torch/nn/modules/conv.py\u001b[0m in \u001b[0;36m_conv_forward\u001b[0;34m(self, input, weight, bias)\u001b[0m\n\u001b[1;32m    451\u001b[0m                             \u001b[0mweight\u001b[0m\u001b[0;34m,\u001b[0m \u001b[0mbias\u001b[0m\u001b[0;34m,\u001b[0m \u001b[0mself\u001b[0m\u001b[0;34m.\u001b[0m\u001b[0mstride\u001b[0m\u001b[0;34m,\u001b[0m\u001b[0;34m\u001b[0m\u001b[0;34m\u001b[0m\u001b[0m\n\u001b[1;32m    452\u001b[0m                             _pair(0), self.dilation, self.groups)\n\u001b[0;32m--> 453\u001b[0;31m         return F.conv2d(input, weight, bias, self.stride,\n\u001b[0m\u001b[1;32m    454\u001b[0m                         self.padding, self.dilation, self.groups)\n\u001b[1;32m    455\u001b[0m \u001b[0;34m\u001b[0m\u001b[0m\n",
      "\u001b[0;31mTypeError\u001b[0m: conv2d() received an invalid combination of arguments - got (enumerate, Parameter, Parameter, tuple, tuple, tuple, int), but expected one of:\n * (Tensor input, Tensor weight, Tensor bias, tuple of ints stride, tuple of ints padding, tuple of ints dilation, int groups)\n      didn't match because some of the arguments have invalid types: (!enumerate!, !Parameter!, !Parameter!, !tuple!, !tuple!, !tuple!, int)\n * (Tensor input, Tensor weight, Tensor bias, tuple of ints stride, str padding, tuple of ints dilation, int groups)\n      didn't match because some of the arguments have invalid types: (!enumerate!, !Parameter!, !Parameter!, !tuple!, !tuple!, !tuple!, int)\n"
     ]
    }
   ],
   "source": [
    "with torch.no_grad():\n",
    "    output = model(data)"
   ]
  },
  {
   "cell_type": "code",
   "execution_count": 25,
   "id": "3d429c0f",
   "metadata": {},
   "outputs": [
    {
     "ename": "NameError",
     "evalue": "name 'output' is not defined",
     "output_type": "error",
     "traceback": [
      "\u001b[0;31m---------------------------------------------------------------------------\u001b[0m",
      "\u001b[0;31mNameError\u001b[0m                                 Traceback (most recent call last)",
      "\u001b[0;32m/var/folders/zx/mhdl9f0d1c552plym17cmqym0000gn/T/ipykernel_23941/2415424161.py\u001b[0m in \u001b[0;36m<module>\u001b[0;34m\u001b[0m\n\u001b[0;32m----> 1\u001b[0;31m \u001b[0moutput\u001b[0m\u001b[0;34m\u001b[0m\u001b[0;34m\u001b[0m\u001b[0m\n\u001b[0m",
      "\u001b[0;31mNameError\u001b[0m: name 'output' is not defined"
     ]
    }
   ],
   "source": [
    "output"
   ]
  },
  {
   "cell_type": "code",
   "execution_count": 26,
   "id": "8af66b30",
   "metadata": {},
   "outputs": [],
   "source": [
    "import pickle\n",
    "with open(\"model.pkl\",\"wb\") as f:\n",
    "    pickle.dump(model,f)"
   ]
  },
  {
   "cell_type": "code",
   "execution_count": 27,
   "id": "e4c9333b",
   "metadata": {},
   "outputs": [],
   "source": [
    "import matplotlib.pyplot as plt\n",
    "import cv2\n",
    "\n",
    "arr = cv2.imread('image.png',cv2.IMREAD_UNCHANGED)"
   ]
  },
  {
   "cell_type": "code",
   "execution_count": 28,
   "id": "84670d46",
   "metadata": {},
   "outputs": [
    {
     "data": {
      "text/plain": [
       "(600, 600)"
      ]
     },
     "execution_count": 28,
     "metadata": {},
     "output_type": "execute_result"
    }
   ],
   "source": [
    "arr.shape"
   ]
  },
  {
   "cell_type": "code",
   "execution_count": 29,
   "id": "b9ec4b69",
   "metadata": {},
   "outputs": [
    {
     "data": {
      "text/plain": [
       "tensor([[0.0000, 0.0000, 0.0000, 0.0000, 0.0000, 0.0000, 0.0000, 0.0000, 0.0000,\n",
       "         0.0000, 0.0000, 0.0000, 0.0000, 0.0000, 0.0000, 0.0000, 0.0000, 0.0000,\n",
       "         0.0000, 0.0000, 0.0000, 0.0000, 0.0000, 0.0000, 0.0000, 0.0000, 0.0000,\n",
       "         0.0000],\n",
       "        [0.0000, 0.0000, 0.0000, 0.0000, 0.0000, 0.0000, 0.0000, 0.0000, 0.0000,\n",
       "         0.0000, 0.0000, 0.0000, 0.0000, 0.0000, 0.0000, 0.0000, 0.0000, 0.0000,\n",
       "         0.0000, 0.0000, 0.0000, 0.0000, 0.0000, 0.0000, 0.0000, 0.0000, 0.0000,\n",
       "         0.0000],\n",
       "        [0.0000, 0.0000, 0.0000, 0.0000, 0.0000, 0.0000, 0.0000, 0.0000, 0.0000,\n",
       "         0.0000, 0.0000, 0.0000, 0.0000, 0.0000, 0.0000, 0.0000, 0.0000, 0.0000,\n",
       "         0.0000, 0.0000, 0.0000, 0.0000, 0.0000, 0.0000, 0.0000, 0.0000, 0.0000,\n",
       "         0.0000],\n",
       "        [0.0000, 0.0000, 0.0000, 0.0000, 0.0000, 0.0000, 0.0000, 0.0000, 0.0000,\n",
       "         0.0000, 0.0000, 0.0000, 0.0000, 0.0000, 0.0000, 0.0000, 0.0000, 0.0000,\n",
       "         0.0000, 0.0000, 0.0000, 0.0000, 0.0000, 0.0000, 0.0000, 0.0000, 0.0000,\n",
       "         0.0000],\n",
       "        [0.0000, 0.0000, 0.0000, 0.0000, 0.0000, 0.0000, 0.0000, 0.0000, 0.0000,\n",
       "         0.0000, 1.0000, 1.0000, 1.0000, 1.0000, 0.0000, 0.0000, 0.0000, 0.0000,\n",
       "         0.0000, 0.0000, 0.0000, 0.0000, 0.0000, 0.0000, 0.0000, 0.0000, 0.0000,\n",
       "         0.0000],\n",
       "        [0.0000, 0.0000, 0.0000, 0.0000, 0.0000, 0.0000, 0.0000, 0.0000, 1.0000,\n",
       "         1.0000, 0.0000, 0.0000, 0.0000, 0.0000, 1.0000, 0.0000, 0.0000, 0.0000,\n",
       "         0.0000, 0.0000, 0.0000, 0.0000, 0.0000, 0.0000, 0.0000, 0.0000, 0.0000,\n",
       "         0.0000],\n",
       "        [0.0000, 0.0000, 0.0000, 0.0000, 0.0000, 0.0000, 0.0000, 1.0000, 0.0000,\n",
       "         0.0000, 0.0000, 0.0000, 0.0000, 0.0000, 0.2118, 0.0000, 0.0000, 0.0000,\n",
       "         0.0000, 0.0000, 0.0000, 0.0000, 0.0000, 0.0000, 0.0000, 0.0000, 0.0000,\n",
       "         0.0000],\n",
       "        [0.0000, 0.0000, 0.0000, 0.0000, 0.0000, 0.0000, 1.0000, 0.0000, 0.0000,\n",
       "         0.0000, 0.0000, 0.0000, 0.0000, 0.0000, 0.0000, 0.0000, 0.0000, 0.0000,\n",
       "         0.0000, 0.0000, 0.0000, 0.0000, 0.0000, 0.0000, 0.0000, 0.0000, 0.0000,\n",
       "         0.0000],\n",
       "        [0.0000, 0.0000, 0.0000, 0.0000, 0.0000, 0.0000, 0.4941, 0.0000, 0.0000,\n",
       "         0.0000, 0.0000, 0.0000, 0.0000, 0.0000, 0.2157, 1.0000, 0.0000, 0.0000,\n",
       "         0.0000, 0.0000, 0.0000, 0.0000, 0.0000, 0.0000, 0.0000, 0.0000, 0.0000,\n",
       "         0.0000],\n",
       "        [0.0000, 0.0000, 0.0000, 0.0000, 0.0000, 1.0000, 0.0000, 0.0000, 0.0000,\n",
       "         0.0000, 0.0000, 0.0000, 0.0000, 0.0000, 1.0000, 1.0000, 0.0000, 0.0000,\n",
       "         0.0000, 0.0000, 0.0000, 0.0000, 0.0000, 0.0000, 0.0000, 0.0000, 0.0000,\n",
       "         0.0000],\n",
       "        [0.0000, 0.0000, 0.0000, 0.0000, 0.0000, 1.0000, 0.0000, 0.0000, 0.0000,\n",
       "         0.0000, 0.0000, 0.0000, 0.0000, 0.0000, 1.0000, 1.0000, 0.0000, 0.0000,\n",
       "         0.0000, 0.0000, 0.0000, 0.0000, 0.0000, 0.0000, 0.0000, 0.0000, 0.0000,\n",
       "         0.0000],\n",
       "        [0.0000, 0.0000, 0.0000, 0.0000, 0.0000, 0.0000, 1.0000, 0.0000, 0.0000,\n",
       "         0.0000, 0.0000, 0.0000, 0.0000, 1.0000, 0.0000, 1.0000, 0.0000, 0.0000,\n",
       "         0.0000, 0.0000, 0.0000, 0.0000, 0.0000, 0.0000, 0.0000, 0.0000, 0.0000,\n",
       "         0.0000],\n",
       "        [0.0000, 0.0000, 0.0000, 0.0000, 0.0000, 0.0000, 0.5059, 1.0000, 0.0000,\n",
       "         0.0000, 0.0000, 0.0000, 1.0000, 0.0000, 0.0000, 1.0000, 0.0000, 0.0000,\n",
       "         0.0000, 0.0000, 0.0000, 0.0000, 0.0000, 0.0000, 0.0000, 0.0000, 0.0000,\n",
       "         0.0000],\n",
       "        [0.0000, 0.0000, 0.0000, 0.0000, 0.0000, 0.0000, 0.0000, 0.0000, 1.0000,\n",
       "         1.0000, 1.0000, 0.0000, 0.0000, 0.0000, 0.0000, 1.0000, 0.0000, 0.0000,\n",
       "         0.0000, 0.0000, 0.0000, 0.0000, 0.0000, 0.0000, 0.0000, 0.0000, 0.0000,\n",
       "         0.0000],\n",
       "        [0.0000, 0.0000, 0.0000, 0.0000, 0.0000, 0.0000, 0.0000, 0.0000, 0.0000,\n",
       "         0.0000, 0.0000, 0.0000, 0.0000, 0.0000, 0.0000, 1.0000, 0.0000, 0.0000,\n",
       "         0.0000, 0.0000, 0.0000, 0.0000, 0.0000, 0.0000, 0.0000, 0.0000, 0.0000,\n",
       "         0.0000],\n",
       "        [0.0000, 0.0000, 0.0000, 0.0000, 0.0000, 0.0000, 0.0000, 0.0000, 0.0000,\n",
       "         0.0000, 0.0000, 0.0000, 0.0000, 0.0000, 0.0000, 1.0000, 0.0000, 0.0000,\n",
       "         0.0000, 0.0000, 0.0000, 0.0000, 0.0000, 0.0000, 0.0000, 0.0000, 0.0000,\n",
       "         0.0000],\n",
       "        [0.0000, 0.0000, 0.0000, 0.0000, 0.0000, 0.0000, 0.0000, 0.0000, 0.0000,\n",
       "         0.0000, 0.0000, 0.0000, 0.0000, 0.0000, 0.0000, 1.0000, 0.0000, 0.0000,\n",
       "         0.0000, 0.0000, 0.0000, 0.0000, 0.0000, 0.0000, 0.0000, 0.0000, 0.0000,\n",
       "         0.0000],\n",
       "        [0.0000, 0.0000, 0.0000, 0.0000, 0.0000, 0.0000, 0.0000, 0.0000, 0.0000,\n",
       "         0.0000, 0.0000, 0.0000, 0.0000, 0.0000, 0.0000, 1.0000, 0.0000, 0.0000,\n",
       "         0.0000, 0.0000, 0.0000, 0.0000, 0.0000, 0.0000, 0.0000, 0.0000, 0.0000,\n",
       "         0.0000],\n",
       "        [0.0000, 0.0000, 0.0000, 0.0000, 0.0000, 0.0000, 0.0000, 0.0000, 0.0000,\n",
       "         0.0000, 0.0000, 0.0000, 0.0000, 0.0000, 0.0000, 1.0000, 0.0000, 0.0000,\n",
       "         0.0000, 0.0000, 0.0000, 0.0000, 0.0000, 0.0000, 0.0000, 0.0000, 0.0000,\n",
       "         0.0000],\n",
       "        [0.0000, 0.0000, 0.0000, 0.0000, 0.0000, 0.0000, 0.0000, 0.0000, 0.0000,\n",
       "         0.0000, 0.0000, 0.0000, 0.0000, 0.0000, 0.0000, 1.0000, 0.0000, 0.0000,\n",
       "         0.0000, 0.0000, 0.0000, 0.0000, 0.0000, 0.0000, 0.0000, 0.0000, 0.0000,\n",
       "         0.0000],\n",
       "        [0.0000, 0.0000, 0.0000, 0.0000, 0.0000, 0.0000, 0.0000, 0.0000, 0.0000,\n",
       "         0.0000, 0.0000, 0.0000, 0.0000, 0.0000, 0.0000, 0.0000, 0.0000, 0.0000,\n",
       "         0.0000, 0.0000, 0.0000, 0.0000, 0.0000, 0.0000, 0.0000, 0.0000, 0.0000,\n",
       "         0.0000],\n",
       "        [0.0000, 0.0000, 0.0000, 0.0000, 0.0000, 0.0000, 0.0000, 0.0000, 0.0000,\n",
       "         0.0000, 0.0000, 0.0000, 0.0000, 0.0000, 0.0000, 0.0000, 0.0000, 0.0000,\n",
       "         0.0000, 0.0000, 0.0000, 0.0000, 0.0000, 0.0000, 0.0000, 0.0000, 0.0000,\n",
       "         0.0000],\n",
       "        [0.0000, 0.0000, 0.0000, 0.0000, 0.0000, 0.0000, 0.0000, 0.0000, 0.0000,\n",
       "         0.0000, 0.0000, 0.0000, 0.0000, 0.0000, 0.0000, 0.0000, 0.0000, 0.0000,\n",
       "         0.0000, 0.0000, 0.0000, 0.0000, 0.0000, 0.0000, 0.0000, 0.0000, 0.0000,\n",
       "         0.0000],\n",
       "        [0.0000, 0.0000, 0.0000, 0.0000, 0.0000, 0.0000, 0.0000, 0.0000, 0.0000,\n",
       "         0.0000, 0.0000, 0.0000, 0.0000, 0.0000, 0.0000, 0.0000, 0.0000, 0.0000,\n",
       "         0.0000, 0.0000, 0.0000, 0.0000, 0.0000, 0.0000, 0.0000, 0.0000, 0.0000,\n",
       "         0.0000],\n",
       "        [0.0000, 0.0000, 0.0000, 0.0000, 0.0000, 0.0000, 0.0000, 0.0000, 0.0000,\n",
       "         0.0000, 0.0000, 0.0000, 0.0000, 0.0000, 0.0000, 0.0000, 0.0000, 0.0000,\n",
       "         0.0000, 0.0000, 0.0000, 0.0000, 0.0000, 0.0000, 0.0000, 0.0000, 0.0000,\n",
       "         0.0000],\n",
       "        [0.0000, 0.0000, 0.0000, 0.0000, 0.0000, 0.0000, 0.0000, 0.0000, 0.0000,\n",
       "         0.0000, 0.0000, 0.0000, 0.0000, 0.0000, 0.0000, 0.0000, 0.0000, 0.0000,\n",
       "         0.0000, 0.0000, 0.0000, 0.0000, 0.0000, 0.0000, 0.0000, 0.0000, 0.0000,\n",
       "         0.0000],\n",
       "        [0.0000, 0.0000, 0.0000, 0.0000, 0.0000, 0.0000, 0.0000, 0.0000, 0.0000,\n",
       "         0.0000, 0.0000, 0.0000, 0.0000, 0.0000, 0.0000, 0.0000, 0.0000, 0.0000,\n",
       "         0.0000, 0.0000, 0.0000, 0.0000, 0.0000, 0.0000, 0.0000, 0.0000, 0.0000,\n",
       "         0.0000],\n",
       "        [0.0000, 0.0000, 0.0000, 0.0000, 0.0000, 0.0000, 0.0000, 0.0000, 0.0000,\n",
       "         0.0000, 0.0000, 0.0000, 0.0000, 0.0000, 0.0000, 0.0000, 0.0000, 0.0000,\n",
       "         0.0000, 0.0000, 0.0000, 0.0000, 0.0000, 0.0000, 0.0000, 0.0000, 0.0000,\n",
       "         0.0000]], dtype=torch.float64)"
      ]
     },
     "execution_count": 29,
     "metadata": {},
     "output_type": "execute_result"
    }
   ],
   "source": [
    "resized_image = cv2.resize(arr, (28, 28),interpolation=cv2.INTER_LINEAR)/255.0\n",
    "# resized_image = resized_image.astype(\"float64\")\n",
    "data = torch.from_numpy(resized_image)\n",
    "data.type('torch.DoubleTensor')\n",
    "# data.to(torch.float32)"
   ]
  },
  {
   "cell_type": "code",
   "execution_count": 30,
   "id": "5ddfbccb",
   "metadata": {},
   "outputs": [
    {
     "ename": "NameError",
     "evalue": "name 'stretch_near' is not defined",
     "output_type": "error",
     "traceback": [
      "\u001b[0;31m---------------------------------------------------------------------------\u001b[0m",
      "\u001b[0;31mNameError\u001b[0m                                 Traceback (most recent call last)",
      "\u001b[0;32m/var/folders/zx/mhdl9f0d1c552plym17cmqym0000gn/T/ipykernel_23941/158463755.py\u001b[0m in \u001b[0;36m<module>\u001b[0;34m\u001b[0m\n\u001b[0;32m----> 1\u001b[0;31m \u001b[0mstretch_near\u001b[0m\u001b[0;34m.\u001b[0m\u001b[0mshape\u001b[0m\u001b[0;34m\u001b[0m\u001b[0;34m\u001b[0m\u001b[0m\n\u001b[0m",
      "\u001b[0;31mNameError\u001b[0m: name 'stretch_near' is not defined"
     ]
    }
   ],
   "source": [
    "stretch_near.shape"
   ]
  },
  {
   "cell_type": "code",
   "execution_count": 31,
   "id": "5bbf4a23",
   "metadata": {},
   "outputs": [
    {
     "ename": "NameError",
     "evalue": "name 'stretch_near' is not defined",
     "output_type": "error",
     "traceback": [
      "\u001b[0;31m---------------------------------------------------------------------------\u001b[0m",
      "\u001b[0;31mNameError\u001b[0m                                 Traceback (most recent call last)",
      "\u001b[0;32m/var/folders/zx/mhdl9f0d1c552plym17cmqym0000gn/T/ipykernel_23941/2866292704.py\u001b[0m in \u001b[0;36m<module>\u001b[0;34m\u001b[0m\n\u001b[0;32m----> 1\u001b[0;31m \u001b[0mplt\u001b[0m\u001b[0;34m.\u001b[0m\u001b[0mimshow\u001b[0m\u001b[0;34m(\u001b[0m\u001b[0mstretch_near\u001b[0m\u001b[0;34m,\u001b[0m\u001b[0mcmap\u001b[0m\u001b[0;34m=\u001b[0m\u001b[0;34m\"gray\"\u001b[0m\u001b[0;34m)\u001b[0m\u001b[0;34m\u001b[0m\u001b[0;34m\u001b[0m\u001b[0m\n\u001b[0m",
      "\u001b[0;31mNameError\u001b[0m: name 'stretch_near' is not defined"
     ]
    }
   ],
   "source": [
    "plt.imshow(stretch_near,cmap=\"gray\")"
   ]
  },
  {
   "cell_type": "code",
   "execution_count": 32,
   "id": "4aa86b4a",
   "metadata": {},
   "outputs": [
    {
     "data": {
      "text/plain": [
       "tensor([[0.0000, 0.0000, 0.0000, 0.0000, 0.0000, 0.0000, 0.0000, 0.0000, 0.0000,\n",
       "         0.0000, 0.0000, 0.0000, 0.0000, 0.0000, 0.0000, 0.0000, 0.0000, 0.0000,\n",
       "         0.0000, 0.0000, 0.0000, 0.0000, 0.0000, 0.0000, 0.0000, 0.0000, 0.0000,\n",
       "         0.0000],\n",
       "        [0.0000, 0.0000, 0.0000, 0.0000, 0.0000, 0.0000, 0.0000, 0.0000, 0.0000,\n",
       "         0.0000, 0.0000, 0.0000, 0.0000, 0.0000, 0.0000, 0.0000, 0.0000, 0.0000,\n",
       "         0.0000, 0.0000, 0.0000, 0.0000, 0.0000, 0.0000, 0.0000, 0.0000, 0.0000,\n",
       "         0.0000],\n",
       "        [0.0000, 0.0000, 0.0000, 0.0000, 0.0000, 0.0000, 0.0000, 0.0000, 0.0000,\n",
       "         0.0000, 0.0000, 0.0000, 0.0000, 0.0000, 0.0000, 0.0000, 0.0000, 0.0000,\n",
       "         0.0000, 0.0000, 0.0000, 0.0000, 0.0000, 0.0000, 0.0000, 0.0000, 0.0000,\n",
       "         0.0000],\n",
       "        [0.0000, 0.0000, 0.0000, 0.0000, 0.0000, 0.0000, 0.0000, 0.0000, 0.0000,\n",
       "         0.0000, 0.0000, 0.0000, 0.0000, 0.0000, 0.0000, 0.0000, 0.0000, 0.0000,\n",
       "         0.0000, 0.0000, 0.0000, 0.0000, 0.0000, 0.0000, 0.0000, 0.0000, 0.0000,\n",
       "         0.0000],\n",
       "        [0.0000, 0.0000, 0.0000, 0.0000, 0.0000, 0.0000, 0.0000, 0.0000, 0.0000,\n",
       "         0.0000, 1.0000, 1.0000, 1.0000, 1.0000, 0.0000, 0.0000, 0.0000, 0.0000,\n",
       "         0.0000, 0.0000, 0.0000, 0.0000, 0.0000, 0.0000, 0.0000, 0.0000, 0.0000,\n",
       "         0.0000],\n",
       "        [0.0000, 0.0000, 0.0000, 0.0000, 0.0000, 0.0000, 0.0000, 0.0000, 1.0000,\n",
       "         1.0000, 0.0000, 0.0000, 0.0000, 0.0000, 1.0000, 0.0000, 0.0000, 0.0000,\n",
       "         0.0000, 0.0000, 0.0000, 0.0000, 0.0000, 0.0000, 0.0000, 0.0000, 0.0000,\n",
       "         0.0000],\n",
       "        [0.0000, 0.0000, 0.0000, 0.0000, 0.0000, 0.0000, 0.0000, 1.0000, 0.0000,\n",
       "         0.0000, 0.0000, 0.0000, 0.0000, 0.0000, 0.2118, 0.0000, 0.0000, 0.0000,\n",
       "         0.0000, 0.0000, 0.0000, 0.0000, 0.0000, 0.0000, 0.0000, 0.0000, 0.0000,\n",
       "         0.0000],\n",
       "        [0.0000, 0.0000, 0.0000, 0.0000, 0.0000, 0.0000, 1.0000, 0.0000, 0.0000,\n",
       "         0.0000, 0.0000, 0.0000, 0.0000, 0.0000, 0.0000, 0.0000, 0.0000, 0.0000,\n",
       "         0.0000, 0.0000, 0.0000, 0.0000, 0.0000, 0.0000, 0.0000, 0.0000, 0.0000,\n",
       "         0.0000],\n",
       "        [0.0000, 0.0000, 0.0000, 0.0000, 0.0000, 0.0000, 0.4941, 0.0000, 0.0000,\n",
       "         0.0000, 0.0000, 0.0000, 0.0000, 0.0000, 0.2157, 1.0000, 0.0000, 0.0000,\n",
       "         0.0000, 0.0000, 0.0000, 0.0000, 0.0000, 0.0000, 0.0000, 0.0000, 0.0000,\n",
       "         0.0000],\n",
       "        [0.0000, 0.0000, 0.0000, 0.0000, 0.0000, 1.0000, 0.0000, 0.0000, 0.0000,\n",
       "         0.0000, 0.0000, 0.0000, 0.0000, 0.0000, 1.0000, 1.0000, 0.0000, 0.0000,\n",
       "         0.0000, 0.0000, 0.0000, 0.0000, 0.0000, 0.0000, 0.0000, 0.0000, 0.0000,\n",
       "         0.0000],\n",
       "        [0.0000, 0.0000, 0.0000, 0.0000, 0.0000, 1.0000, 0.0000, 0.0000, 0.0000,\n",
       "         0.0000, 0.0000, 0.0000, 0.0000, 0.0000, 1.0000, 1.0000, 0.0000, 0.0000,\n",
       "         0.0000, 0.0000, 0.0000, 0.0000, 0.0000, 0.0000, 0.0000, 0.0000, 0.0000,\n",
       "         0.0000],\n",
       "        [0.0000, 0.0000, 0.0000, 0.0000, 0.0000, 0.0000, 1.0000, 0.0000, 0.0000,\n",
       "         0.0000, 0.0000, 0.0000, 0.0000, 1.0000, 0.0000, 1.0000, 0.0000, 0.0000,\n",
       "         0.0000, 0.0000, 0.0000, 0.0000, 0.0000, 0.0000, 0.0000, 0.0000, 0.0000,\n",
       "         0.0000],\n",
       "        [0.0000, 0.0000, 0.0000, 0.0000, 0.0000, 0.0000, 0.5059, 1.0000, 0.0000,\n",
       "         0.0000, 0.0000, 0.0000, 1.0000, 0.0000, 0.0000, 1.0000, 0.0000, 0.0000,\n",
       "         0.0000, 0.0000, 0.0000, 0.0000, 0.0000, 0.0000, 0.0000, 0.0000, 0.0000,\n",
       "         0.0000],\n",
       "        [0.0000, 0.0000, 0.0000, 0.0000, 0.0000, 0.0000, 0.0000, 0.0000, 1.0000,\n",
       "         1.0000, 1.0000, 0.0000, 0.0000, 0.0000, 0.0000, 1.0000, 0.0000, 0.0000,\n",
       "         0.0000, 0.0000, 0.0000, 0.0000, 0.0000, 0.0000, 0.0000, 0.0000, 0.0000,\n",
       "         0.0000],\n",
       "        [0.0000, 0.0000, 0.0000, 0.0000, 0.0000, 0.0000, 0.0000, 0.0000, 0.0000,\n",
       "         0.0000, 0.0000, 0.0000, 0.0000, 0.0000, 0.0000, 1.0000, 0.0000, 0.0000,\n",
       "         0.0000, 0.0000, 0.0000, 0.0000, 0.0000, 0.0000, 0.0000, 0.0000, 0.0000,\n",
       "         0.0000],\n",
       "        [0.0000, 0.0000, 0.0000, 0.0000, 0.0000, 0.0000, 0.0000, 0.0000, 0.0000,\n",
       "         0.0000, 0.0000, 0.0000, 0.0000, 0.0000, 0.0000, 1.0000, 0.0000, 0.0000,\n",
       "         0.0000, 0.0000, 0.0000, 0.0000, 0.0000, 0.0000, 0.0000, 0.0000, 0.0000,\n",
       "         0.0000],\n",
       "        [0.0000, 0.0000, 0.0000, 0.0000, 0.0000, 0.0000, 0.0000, 0.0000, 0.0000,\n",
       "         0.0000, 0.0000, 0.0000, 0.0000, 0.0000, 0.0000, 1.0000, 0.0000, 0.0000,\n",
       "         0.0000, 0.0000, 0.0000, 0.0000, 0.0000, 0.0000, 0.0000, 0.0000, 0.0000,\n",
       "         0.0000],\n",
       "        [0.0000, 0.0000, 0.0000, 0.0000, 0.0000, 0.0000, 0.0000, 0.0000, 0.0000,\n",
       "         0.0000, 0.0000, 0.0000, 0.0000, 0.0000, 0.0000, 1.0000, 0.0000, 0.0000,\n",
       "         0.0000, 0.0000, 0.0000, 0.0000, 0.0000, 0.0000, 0.0000, 0.0000, 0.0000,\n",
       "         0.0000],\n",
       "        [0.0000, 0.0000, 0.0000, 0.0000, 0.0000, 0.0000, 0.0000, 0.0000, 0.0000,\n",
       "         0.0000, 0.0000, 0.0000, 0.0000, 0.0000, 0.0000, 1.0000, 0.0000, 0.0000,\n",
       "         0.0000, 0.0000, 0.0000, 0.0000, 0.0000, 0.0000, 0.0000, 0.0000, 0.0000,\n",
       "         0.0000],\n",
       "        [0.0000, 0.0000, 0.0000, 0.0000, 0.0000, 0.0000, 0.0000, 0.0000, 0.0000,\n",
       "         0.0000, 0.0000, 0.0000, 0.0000, 0.0000, 0.0000, 1.0000, 0.0000, 0.0000,\n",
       "         0.0000, 0.0000, 0.0000, 0.0000, 0.0000, 0.0000, 0.0000, 0.0000, 0.0000,\n",
       "         0.0000],\n",
       "        [0.0000, 0.0000, 0.0000, 0.0000, 0.0000, 0.0000, 0.0000, 0.0000, 0.0000,\n",
       "         0.0000, 0.0000, 0.0000, 0.0000, 0.0000, 0.0000, 0.0000, 0.0000, 0.0000,\n",
       "         0.0000, 0.0000, 0.0000, 0.0000, 0.0000, 0.0000, 0.0000, 0.0000, 0.0000,\n",
       "         0.0000],\n",
       "        [0.0000, 0.0000, 0.0000, 0.0000, 0.0000, 0.0000, 0.0000, 0.0000, 0.0000,\n",
       "         0.0000, 0.0000, 0.0000, 0.0000, 0.0000, 0.0000, 0.0000, 0.0000, 0.0000,\n",
       "         0.0000, 0.0000, 0.0000, 0.0000, 0.0000, 0.0000, 0.0000, 0.0000, 0.0000,\n",
       "         0.0000],\n",
       "        [0.0000, 0.0000, 0.0000, 0.0000, 0.0000, 0.0000, 0.0000, 0.0000, 0.0000,\n",
       "         0.0000, 0.0000, 0.0000, 0.0000, 0.0000, 0.0000, 0.0000, 0.0000, 0.0000,\n",
       "         0.0000, 0.0000, 0.0000, 0.0000, 0.0000, 0.0000, 0.0000, 0.0000, 0.0000,\n",
       "         0.0000],\n",
       "        [0.0000, 0.0000, 0.0000, 0.0000, 0.0000, 0.0000, 0.0000, 0.0000, 0.0000,\n",
       "         0.0000, 0.0000, 0.0000, 0.0000, 0.0000, 0.0000, 0.0000, 0.0000, 0.0000,\n",
       "         0.0000, 0.0000, 0.0000, 0.0000, 0.0000, 0.0000, 0.0000, 0.0000, 0.0000,\n",
       "         0.0000],\n",
       "        [0.0000, 0.0000, 0.0000, 0.0000, 0.0000, 0.0000, 0.0000, 0.0000, 0.0000,\n",
       "         0.0000, 0.0000, 0.0000, 0.0000, 0.0000, 0.0000, 0.0000, 0.0000, 0.0000,\n",
       "         0.0000, 0.0000, 0.0000, 0.0000, 0.0000, 0.0000, 0.0000, 0.0000, 0.0000,\n",
       "         0.0000],\n",
       "        [0.0000, 0.0000, 0.0000, 0.0000, 0.0000, 0.0000, 0.0000, 0.0000, 0.0000,\n",
       "         0.0000, 0.0000, 0.0000, 0.0000, 0.0000, 0.0000, 0.0000, 0.0000, 0.0000,\n",
       "         0.0000, 0.0000, 0.0000, 0.0000, 0.0000, 0.0000, 0.0000, 0.0000, 0.0000,\n",
       "         0.0000],\n",
       "        [0.0000, 0.0000, 0.0000, 0.0000, 0.0000, 0.0000, 0.0000, 0.0000, 0.0000,\n",
       "         0.0000, 0.0000, 0.0000, 0.0000, 0.0000, 0.0000, 0.0000, 0.0000, 0.0000,\n",
       "         0.0000, 0.0000, 0.0000, 0.0000, 0.0000, 0.0000, 0.0000, 0.0000, 0.0000,\n",
       "         0.0000],\n",
       "        [0.0000, 0.0000, 0.0000, 0.0000, 0.0000, 0.0000, 0.0000, 0.0000, 0.0000,\n",
       "         0.0000, 0.0000, 0.0000, 0.0000, 0.0000, 0.0000, 0.0000, 0.0000, 0.0000,\n",
       "         0.0000, 0.0000, 0.0000, 0.0000, 0.0000, 0.0000, 0.0000, 0.0000, 0.0000,\n",
       "         0.0000]], dtype=torch.float64)"
      ]
     },
     "execution_count": 32,
     "metadata": {},
     "output_type": "execute_result"
    }
   ],
   "source": [
    "data"
   ]
  },
  {
   "cell_type": "code",
   "execution_count": 33,
   "id": "28e8503b",
   "metadata": {},
   "outputs": [
    {
     "ename": "RuntimeError",
     "evalue": "Expected 3D (unbatched) or 4D (batched) input to conv2d, but got input of size: [28, 28]",
     "output_type": "error",
     "traceback": [
      "\u001b[0;31m---------------------------------------------------------------------------\u001b[0m",
      "\u001b[0;31mRuntimeError\u001b[0m                              Traceback (most recent call last)",
      "\u001b[0;32m/var/folders/zx/mhdl9f0d1c552plym17cmqym0000gn/T/ipykernel_23941/958051570.py\u001b[0m in \u001b[0;36m<module>\u001b[0;34m\u001b[0m\n\u001b[1;32m      1\u001b[0m \u001b[0;32mwith\u001b[0m \u001b[0mtorch\u001b[0m\u001b[0;34m.\u001b[0m\u001b[0mno_grad\u001b[0m\u001b[0;34m(\u001b[0m\u001b[0;34m)\u001b[0m\u001b[0;34m:\u001b[0m\u001b[0;34m\u001b[0m\u001b[0;34m\u001b[0m\u001b[0m\n\u001b[0;32m----> 2\u001b[0;31m     \u001b[0moutput\u001b[0m \u001b[0;34m=\u001b[0m \u001b[0mmodel\u001b[0m\u001b[0;34m(\u001b[0m\u001b[0mdata\u001b[0m\u001b[0;34m)\u001b[0m\u001b[0;34m\u001b[0m\u001b[0;34m\u001b[0m\u001b[0m\n\u001b[0m",
      "\u001b[0;32m~/opt/anaconda3/lib/python3.9/site-packages/torch/nn/modules/module.py\u001b[0m in \u001b[0;36m_call_impl\u001b[0;34m(self, *input, **kwargs)\u001b[0m\n\u001b[1;32m   1128\u001b[0m         if not (self._backward_hooks or self._forward_hooks or self._forward_pre_hooks or _global_backward_hooks\n\u001b[1;32m   1129\u001b[0m                 or _global_forward_hooks or _global_forward_pre_hooks):\n\u001b[0;32m-> 1130\u001b[0;31m             \u001b[0;32mreturn\u001b[0m \u001b[0mforward_call\u001b[0m\u001b[0;34m(\u001b[0m\u001b[0;34m*\u001b[0m\u001b[0minput\u001b[0m\u001b[0;34m,\u001b[0m \u001b[0;34m**\u001b[0m\u001b[0mkwargs\u001b[0m\u001b[0;34m)\u001b[0m\u001b[0;34m\u001b[0m\u001b[0;34m\u001b[0m\u001b[0m\n\u001b[0m\u001b[1;32m   1131\u001b[0m         \u001b[0;31m# Do not call functions when jit is used\u001b[0m\u001b[0;34m\u001b[0m\u001b[0;34m\u001b[0m\u001b[0m\n\u001b[1;32m   1132\u001b[0m         \u001b[0mfull_backward_hooks\u001b[0m\u001b[0;34m,\u001b[0m \u001b[0mnon_full_backward_hooks\u001b[0m \u001b[0;34m=\u001b[0m \u001b[0;34m[\u001b[0m\u001b[0;34m]\u001b[0m\u001b[0;34m,\u001b[0m \u001b[0;34m[\u001b[0m\u001b[0;34m]\u001b[0m\u001b[0;34m\u001b[0m\u001b[0;34m\u001b[0m\u001b[0m\n",
      "\u001b[0;32m/var/folders/zx/mhdl9f0d1c552plym17cmqym0000gn/T/ipykernel_23941/161431047.py\u001b[0m in \u001b[0;36mforward\u001b[0;34m(self, x)\u001b[0m\n\u001b[1;32m      9\u001b[0m \u001b[0;34m\u001b[0m\u001b[0m\n\u001b[1;32m     10\u001b[0m     \u001b[0;32mdef\u001b[0m \u001b[0mforward\u001b[0m\u001b[0;34m(\u001b[0m\u001b[0mself\u001b[0m\u001b[0;34m,\u001b[0m \u001b[0mx\u001b[0m\u001b[0;34m)\u001b[0m\u001b[0;34m:\u001b[0m\u001b[0;34m\u001b[0m\u001b[0;34m\u001b[0m\u001b[0m\n\u001b[0;32m---> 11\u001b[0;31m         \u001b[0mx\u001b[0m \u001b[0;34m=\u001b[0m \u001b[0mF\u001b[0m\u001b[0;34m.\u001b[0m\u001b[0mrelu\u001b[0m\u001b[0;34m(\u001b[0m\u001b[0mF\u001b[0m\u001b[0;34m.\u001b[0m\u001b[0mmax_pool2d\u001b[0m\u001b[0;34m(\u001b[0m\u001b[0mself\u001b[0m\u001b[0;34m.\u001b[0m\u001b[0mconv1\u001b[0m\u001b[0;34m(\u001b[0m\u001b[0mx\u001b[0m\u001b[0;34m)\u001b[0m\u001b[0;34m,\u001b[0m \u001b[0;36m2\u001b[0m\u001b[0;34m)\u001b[0m\u001b[0;34m)\u001b[0m\u001b[0;34m\u001b[0m\u001b[0;34m\u001b[0m\u001b[0m\n\u001b[0m\u001b[1;32m     12\u001b[0m         \u001b[0mx\u001b[0m \u001b[0;34m=\u001b[0m \u001b[0mF\u001b[0m\u001b[0;34m.\u001b[0m\u001b[0mrelu\u001b[0m\u001b[0;34m(\u001b[0m\u001b[0mF\u001b[0m\u001b[0;34m.\u001b[0m\u001b[0mmax_pool2d\u001b[0m\u001b[0;34m(\u001b[0m\u001b[0mself\u001b[0m\u001b[0;34m.\u001b[0m\u001b[0mconv2_drop\u001b[0m\u001b[0;34m(\u001b[0m\u001b[0mself\u001b[0m\u001b[0;34m.\u001b[0m\u001b[0mconv2\u001b[0m\u001b[0;34m(\u001b[0m\u001b[0mx\u001b[0m\u001b[0;34m)\u001b[0m\u001b[0;34m)\u001b[0m\u001b[0;34m,\u001b[0m \u001b[0;36m2\u001b[0m\u001b[0;34m)\u001b[0m\u001b[0;34m)\u001b[0m\u001b[0;34m\u001b[0m\u001b[0;34m\u001b[0m\u001b[0m\n\u001b[1;32m     13\u001b[0m         \u001b[0mx\u001b[0m \u001b[0;34m=\u001b[0m \u001b[0mx\u001b[0m\u001b[0;34m.\u001b[0m\u001b[0mview\u001b[0m\u001b[0;34m(\u001b[0m\u001b[0;34m-\u001b[0m\u001b[0;36m1\u001b[0m\u001b[0;34m,\u001b[0m \u001b[0;36m320\u001b[0m\u001b[0;34m)\u001b[0m\u001b[0;34m\u001b[0m\u001b[0;34m\u001b[0m\u001b[0m\n",
      "\u001b[0;32m~/opt/anaconda3/lib/python3.9/site-packages/torch/nn/modules/module.py\u001b[0m in \u001b[0;36m_call_impl\u001b[0;34m(self, *input, **kwargs)\u001b[0m\n\u001b[1;32m   1128\u001b[0m         if not (self._backward_hooks or self._forward_hooks or self._forward_pre_hooks or _global_backward_hooks\n\u001b[1;32m   1129\u001b[0m                 or _global_forward_hooks or _global_forward_pre_hooks):\n\u001b[0;32m-> 1130\u001b[0;31m             \u001b[0;32mreturn\u001b[0m \u001b[0mforward_call\u001b[0m\u001b[0;34m(\u001b[0m\u001b[0;34m*\u001b[0m\u001b[0minput\u001b[0m\u001b[0;34m,\u001b[0m \u001b[0;34m**\u001b[0m\u001b[0mkwargs\u001b[0m\u001b[0;34m)\u001b[0m\u001b[0;34m\u001b[0m\u001b[0;34m\u001b[0m\u001b[0m\n\u001b[0m\u001b[1;32m   1131\u001b[0m         \u001b[0;31m# Do not call functions when jit is used\u001b[0m\u001b[0;34m\u001b[0m\u001b[0;34m\u001b[0m\u001b[0m\n\u001b[1;32m   1132\u001b[0m         \u001b[0mfull_backward_hooks\u001b[0m\u001b[0;34m,\u001b[0m \u001b[0mnon_full_backward_hooks\u001b[0m \u001b[0;34m=\u001b[0m \u001b[0;34m[\u001b[0m\u001b[0;34m]\u001b[0m\u001b[0;34m,\u001b[0m \u001b[0;34m[\u001b[0m\u001b[0;34m]\u001b[0m\u001b[0;34m\u001b[0m\u001b[0;34m\u001b[0m\u001b[0m\n",
      "\u001b[0;32m~/opt/anaconda3/lib/python3.9/site-packages/torch/nn/modules/conv.py\u001b[0m in \u001b[0;36mforward\u001b[0;34m(self, input)\u001b[0m\n\u001b[1;32m    455\u001b[0m \u001b[0;34m\u001b[0m\u001b[0m\n\u001b[1;32m    456\u001b[0m     \u001b[0;32mdef\u001b[0m \u001b[0mforward\u001b[0m\u001b[0;34m(\u001b[0m\u001b[0mself\u001b[0m\u001b[0;34m,\u001b[0m \u001b[0minput\u001b[0m\u001b[0;34m:\u001b[0m \u001b[0mTensor\u001b[0m\u001b[0;34m)\u001b[0m \u001b[0;34m->\u001b[0m \u001b[0mTensor\u001b[0m\u001b[0;34m:\u001b[0m\u001b[0;34m\u001b[0m\u001b[0;34m\u001b[0m\u001b[0m\n\u001b[0;32m--> 457\u001b[0;31m         \u001b[0;32mreturn\u001b[0m \u001b[0mself\u001b[0m\u001b[0;34m.\u001b[0m\u001b[0m_conv_forward\u001b[0m\u001b[0;34m(\u001b[0m\u001b[0minput\u001b[0m\u001b[0;34m,\u001b[0m \u001b[0mself\u001b[0m\u001b[0;34m.\u001b[0m\u001b[0mweight\u001b[0m\u001b[0;34m,\u001b[0m \u001b[0mself\u001b[0m\u001b[0;34m.\u001b[0m\u001b[0mbias\u001b[0m\u001b[0;34m)\u001b[0m\u001b[0;34m\u001b[0m\u001b[0;34m\u001b[0m\u001b[0m\n\u001b[0m\u001b[1;32m    458\u001b[0m \u001b[0;34m\u001b[0m\u001b[0m\n\u001b[1;32m    459\u001b[0m \u001b[0;32mclass\u001b[0m \u001b[0mConv3d\u001b[0m\u001b[0;34m(\u001b[0m\u001b[0m_ConvNd\u001b[0m\u001b[0;34m)\u001b[0m\u001b[0;34m:\u001b[0m\u001b[0;34m\u001b[0m\u001b[0;34m\u001b[0m\u001b[0m\n",
      "\u001b[0;32m~/opt/anaconda3/lib/python3.9/site-packages/torch/nn/modules/conv.py\u001b[0m in \u001b[0;36m_conv_forward\u001b[0;34m(self, input, weight, bias)\u001b[0m\n\u001b[1;32m    451\u001b[0m                             \u001b[0mweight\u001b[0m\u001b[0;34m,\u001b[0m \u001b[0mbias\u001b[0m\u001b[0;34m,\u001b[0m \u001b[0mself\u001b[0m\u001b[0;34m.\u001b[0m\u001b[0mstride\u001b[0m\u001b[0;34m,\u001b[0m\u001b[0;34m\u001b[0m\u001b[0;34m\u001b[0m\u001b[0m\n\u001b[1;32m    452\u001b[0m                             _pair(0), self.dilation, self.groups)\n\u001b[0;32m--> 453\u001b[0;31m         return F.conv2d(input, weight, bias, self.stride,\n\u001b[0m\u001b[1;32m    454\u001b[0m                         self.padding, self.dilation, self.groups)\n\u001b[1;32m    455\u001b[0m \u001b[0;34m\u001b[0m\u001b[0m\n",
      "\u001b[0;31mRuntimeError\u001b[0m: Expected 3D (unbatched) or 4D (batched) input to conv2d, but got input of size: [28, 28]"
     ]
    }
   ],
   "source": [
    "with torch.no_grad():\n",
    "    output = model(data)"
   ]
  },
  {
   "cell_type": "code",
   "execution_count": 34,
   "id": "9106ec9b",
   "metadata": {},
   "outputs": [
    {
     "data": {
      "text/plain": [
       "torch.Size([28, 28])"
      ]
     },
     "execution_count": 34,
     "metadata": {},
     "output_type": "execute_result"
    }
   ],
   "source": [
    "data.shape"
   ]
  },
  {
   "cell_type": "code",
   "execution_count": null,
   "id": "3dc13ab8",
   "metadata": {},
   "outputs": [],
   "source": []
  }
 ],
 "metadata": {
  "kernelspec": {
   "display_name": "Python 3 (ipykernel)",
   "language": "python",
   "name": "python3"
  },
  "language_info": {
   "codemirror_mode": {
    "name": "ipython",
    "version": 3
   },
   "file_extension": ".py",
   "mimetype": "text/x-python",
   "name": "python",
   "nbconvert_exporter": "python",
   "pygments_lexer": "ipython3",
   "version": "3.9.13"
  }
 },
 "nbformat": 4,
 "nbformat_minor": 5
}
